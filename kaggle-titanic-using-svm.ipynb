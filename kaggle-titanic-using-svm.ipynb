{
 "cells": [
  {
   "cell_type": "code",
   "execution_count": 1,
   "id": "cec40695",
   "metadata": {
    "execution": {
     "iopub.execute_input": "2023-03-02T02:07:57.395524Z",
     "iopub.status.busy": "2023-03-02T02:07:57.394488Z",
     "iopub.status.idle": "2023-03-02T02:07:58.499947Z",
     "shell.execute_reply": "2023-03-02T02:07:58.498589Z"
    },
    "papermill": {
     "duration": 1.129713,
     "end_time": "2023-03-02T02:07:58.503133",
     "exception": false,
     "start_time": "2023-03-02T02:07:57.373420",
     "status": "completed"
    },
    "tags": []
   },
   "outputs": [],
   "source": [
    "import numpy as np\n",
    "import pandas as pd\n",
    "import matplotlib.pyplot as plt\n",
    "import seaborn as sns"
   ]
  },
  {
   "cell_type": "code",
   "execution_count": 2,
   "id": "e4fbafa9",
   "metadata": {
    "execution": {
     "iopub.execute_input": "2023-03-02T02:07:58.536486Z",
     "iopub.status.busy": "2023-03-02T02:07:58.536009Z",
     "iopub.status.idle": "2023-03-02T02:07:58.572286Z",
     "shell.execute_reply": "2023-03-02T02:07:58.571161Z"
    },
    "papermill": {
     "duration": 0.056285,
     "end_time": "2023-03-02T02:07:58.575218",
     "exception": false,
     "start_time": "2023-03-02T02:07:58.518933",
     "status": "completed"
    },
    "tags": []
   },
   "outputs": [],
   "source": [
    "df = pd.read_csv('/kaggle/input/titanic/train.csv', index_col='PassengerId')"
   ]
  },
  {
   "cell_type": "code",
   "execution_count": 3,
   "id": "d3237b67",
   "metadata": {
    "execution": {
     "iopub.execute_input": "2023-03-02T02:07:58.610318Z",
     "iopub.status.busy": "2023-03-02T02:07:58.609471Z",
     "iopub.status.idle": "2023-03-02T02:07:58.641916Z",
     "shell.execute_reply": "2023-03-02T02:07:58.640708Z"
    },
    "papermill": {
     "duration": 0.053637,
     "end_time": "2023-03-02T02:07:58.645443",
     "exception": false,
     "start_time": "2023-03-02T02:07:58.591806",
     "status": "completed"
    },
    "tags": []
   },
   "outputs": [
    {
     "data": {
      "text/html": [
       "<div>\n",
       "<style scoped>\n",
       "    .dataframe tbody tr th:only-of-type {\n",
       "        vertical-align: middle;\n",
       "    }\n",
       "\n",
       "    .dataframe tbody tr th {\n",
       "        vertical-align: top;\n",
       "    }\n",
       "\n",
       "    .dataframe thead th {\n",
       "        text-align: right;\n",
       "    }\n",
       "</style>\n",
       "<table border=\"1\" class=\"dataframe\">\n",
       "  <thead>\n",
       "    <tr style=\"text-align: right;\">\n",
       "      <th></th>\n",
       "      <th>Survived</th>\n",
       "      <th>Pclass</th>\n",
       "      <th>Name</th>\n",
       "      <th>Sex</th>\n",
       "      <th>Age</th>\n",
       "      <th>SibSp</th>\n",
       "      <th>Parch</th>\n",
       "      <th>Ticket</th>\n",
       "      <th>Fare</th>\n",
       "      <th>Cabin</th>\n",
       "      <th>Embarked</th>\n",
       "    </tr>\n",
       "    <tr>\n",
       "      <th>PassengerId</th>\n",
       "      <th></th>\n",
       "      <th></th>\n",
       "      <th></th>\n",
       "      <th></th>\n",
       "      <th></th>\n",
       "      <th></th>\n",
       "      <th></th>\n",
       "      <th></th>\n",
       "      <th></th>\n",
       "      <th></th>\n",
       "      <th></th>\n",
       "    </tr>\n",
       "  </thead>\n",
       "  <tbody>\n",
       "    <tr>\n",
       "      <th>1</th>\n",
       "      <td>0</td>\n",
       "      <td>3</td>\n",
       "      <td>Braund, Mr. Owen Harris</td>\n",
       "      <td>male</td>\n",
       "      <td>22.0</td>\n",
       "      <td>1</td>\n",
       "      <td>0</td>\n",
       "      <td>A/5 21171</td>\n",
       "      <td>7.2500</td>\n",
       "      <td>NaN</td>\n",
       "      <td>S</td>\n",
       "    </tr>\n",
       "    <tr>\n",
       "      <th>2</th>\n",
       "      <td>1</td>\n",
       "      <td>1</td>\n",
       "      <td>Cumings, Mrs. John Bradley (Florence Briggs Th...</td>\n",
       "      <td>female</td>\n",
       "      <td>38.0</td>\n",
       "      <td>1</td>\n",
       "      <td>0</td>\n",
       "      <td>PC 17599</td>\n",
       "      <td>71.2833</td>\n",
       "      <td>C85</td>\n",
       "      <td>C</td>\n",
       "    </tr>\n",
       "    <tr>\n",
       "      <th>3</th>\n",
       "      <td>1</td>\n",
       "      <td>3</td>\n",
       "      <td>Heikkinen, Miss. Laina</td>\n",
       "      <td>female</td>\n",
       "      <td>26.0</td>\n",
       "      <td>0</td>\n",
       "      <td>0</td>\n",
       "      <td>STON/O2. 3101282</td>\n",
       "      <td>7.9250</td>\n",
       "      <td>NaN</td>\n",
       "      <td>S</td>\n",
       "    </tr>\n",
       "    <tr>\n",
       "      <th>4</th>\n",
       "      <td>1</td>\n",
       "      <td>1</td>\n",
       "      <td>Futrelle, Mrs. Jacques Heath (Lily May Peel)</td>\n",
       "      <td>female</td>\n",
       "      <td>35.0</td>\n",
       "      <td>1</td>\n",
       "      <td>0</td>\n",
       "      <td>113803</td>\n",
       "      <td>53.1000</td>\n",
       "      <td>C123</td>\n",
       "      <td>S</td>\n",
       "    </tr>\n",
       "    <tr>\n",
       "      <th>5</th>\n",
       "      <td>0</td>\n",
       "      <td>3</td>\n",
       "      <td>Allen, Mr. William Henry</td>\n",
       "      <td>male</td>\n",
       "      <td>35.0</td>\n",
       "      <td>0</td>\n",
       "      <td>0</td>\n",
       "      <td>373450</td>\n",
       "      <td>8.0500</td>\n",
       "      <td>NaN</td>\n",
       "      <td>S</td>\n",
       "    </tr>\n",
       "    <tr>\n",
       "      <th>...</th>\n",
       "      <td>...</td>\n",
       "      <td>...</td>\n",
       "      <td>...</td>\n",
       "      <td>...</td>\n",
       "      <td>...</td>\n",
       "      <td>...</td>\n",
       "      <td>...</td>\n",
       "      <td>...</td>\n",
       "      <td>...</td>\n",
       "      <td>...</td>\n",
       "      <td>...</td>\n",
       "    </tr>\n",
       "    <tr>\n",
       "      <th>887</th>\n",
       "      <td>0</td>\n",
       "      <td>2</td>\n",
       "      <td>Montvila, Rev. Juozas</td>\n",
       "      <td>male</td>\n",
       "      <td>27.0</td>\n",
       "      <td>0</td>\n",
       "      <td>0</td>\n",
       "      <td>211536</td>\n",
       "      <td>13.0000</td>\n",
       "      <td>NaN</td>\n",
       "      <td>S</td>\n",
       "    </tr>\n",
       "    <tr>\n",
       "      <th>888</th>\n",
       "      <td>1</td>\n",
       "      <td>1</td>\n",
       "      <td>Graham, Miss. Margaret Edith</td>\n",
       "      <td>female</td>\n",
       "      <td>19.0</td>\n",
       "      <td>0</td>\n",
       "      <td>0</td>\n",
       "      <td>112053</td>\n",
       "      <td>30.0000</td>\n",
       "      <td>B42</td>\n",
       "      <td>S</td>\n",
       "    </tr>\n",
       "    <tr>\n",
       "      <th>889</th>\n",
       "      <td>0</td>\n",
       "      <td>3</td>\n",
       "      <td>Johnston, Miss. Catherine Helen \"Carrie\"</td>\n",
       "      <td>female</td>\n",
       "      <td>NaN</td>\n",
       "      <td>1</td>\n",
       "      <td>2</td>\n",
       "      <td>W./C. 6607</td>\n",
       "      <td>23.4500</td>\n",
       "      <td>NaN</td>\n",
       "      <td>S</td>\n",
       "    </tr>\n",
       "    <tr>\n",
       "      <th>890</th>\n",
       "      <td>1</td>\n",
       "      <td>1</td>\n",
       "      <td>Behr, Mr. Karl Howell</td>\n",
       "      <td>male</td>\n",
       "      <td>26.0</td>\n",
       "      <td>0</td>\n",
       "      <td>0</td>\n",
       "      <td>111369</td>\n",
       "      <td>30.0000</td>\n",
       "      <td>C148</td>\n",
       "      <td>C</td>\n",
       "    </tr>\n",
       "    <tr>\n",
       "      <th>891</th>\n",
       "      <td>0</td>\n",
       "      <td>3</td>\n",
       "      <td>Dooley, Mr. Patrick</td>\n",
       "      <td>male</td>\n",
       "      <td>32.0</td>\n",
       "      <td>0</td>\n",
       "      <td>0</td>\n",
       "      <td>370376</td>\n",
       "      <td>7.7500</td>\n",
       "      <td>NaN</td>\n",
       "      <td>Q</td>\n",
       "    </tr>\n",
       "  </tbody>\n",
       "</table>\n",
       "<p>891 rows × 11 columns</p>\n",
       "</div>"
      ],
      "text/plain": [
       "             Survived  Pclass  \\\n",
       "PassengerId                     \n",
       "1                   0       3   \n",
       "2                   1       1   \n",
       "3                   1       3   \n",
       "4                   1       1   \n",
       "5                   0       3   \n",
       "...               ...     ...   \n",
       "887                 0       2   \n",
       "888                 1       1   \n",
       "889                 0       3   \n",
       "890                 1       1   \n",
       "891                 0       3   \n",
       "\n",
       "                                                          Name     Sex   Age  \\\n",
       "PassengerId                                                                    \n",
       "1                                      Braund, Mr. Owen Harris    male  22.0   \n",
       "2            Cumings, Mrs. John Bradley (Florence Briggs Th...  female  38.0   \n",
       "3                                       Heikkinen, Miss. Laina  female  26.0   \n",
       "4                 Futrelle, Mrs. Jacques Heath (Lily May Peel)  female  35.0   \n",
       "5                                     Allen, Mr. William Henry    male  35.0   \n",
       "...                                                        ...     ...   ...   \n",
       "887                                      Montvila, Rev. Juozas    male  27.0   \n",
       "888                               Graham, Miss. Margaret Edith  female  19.0   \n",
       "889                   Johnston, Miss. Catherine Helen \"Carrie\"  female   NaN   \n",
       "890                                      Behr, Mr. Karl Howell    male  26.0   \n",
       "891                                        Dooley, Mr. Patrick    male  32.0   \n",
       "\n",
       "             SibSp  Parch            Ticket     Fare Cabin Embarked  \n",
       "PassengerId                                                          \n",
       "1                1      0         A/5 21171   7.2500   NaN        S  \n",
       "2                1      0          PC 17599  71.2833   C85        C  \n",
       "3                0      0  STON/O2. 3101282   7.9250   NaN        S  \n",
       "4                1      0            113803  53.1000  C123        S  \n",
       "5                0      0            373450   8.0500   NaN        S  \n",
       "...            ...    ...               ...      ...   ...      ...  \n",
       "887              0      0            211536  13.0000   NaN        S  \n",
       "888              0      0            112053  30.0000   B42        S  \n",
       "889              1      2        W./C. 6607  23.4500   NaN        S  \n",
       "890              0      0            111369  30.0000  C148        C  \n",
       "891              0      0            370376   7.7500   NaN        Q  \n",
       "\n",
       "[891 rows x 11 columns]"
      ]
     },
     "execution_count": 3,
     "metadata": {},
     "output_type": "execute_result"
    }
   ],
   "source": [
    "df"
   ]
  },
  {
   "cell_type": "markdown",
   "id": "54cf3736",
   "metadata": {
    "papermill": {
     "duration": 0.015403,
     "end_time": "2023-03-02T02:07:58.678108",
     "exception": false,
     "start_time": "2023-03-02T02:07:58.662705",
     "status": "completed"
    },
    "tags": []
   },
   "source": [
    "# Exploratory Data Analysis "
   ]
  },
  {
   "cell_type": "code",
   "execution_count": 4,
   "id": "569ded7f",
   "metadata": {
    "execution": {
     "iopub.execute_input": "2023-03-02T02:07:58.713867Z",
     "iopub.status.busy": "2023-03-02T02:07:58.713006Z",
     "iopub.status.idle": "2023-03-02T02:07:58.734296Z",
     "shell.execute_reply": "2023-03-02T02:07:58.732650Z"
    },
    "papermill": {
     "duration": 0.041561,
     "end_time": "2023-03-02T02:07:58.737336",
     "exception": false,
     "start_time": "2023-03-02T02:07:58.695775",
     "status": "completed"
    },
    "tags": []
   },
   "outputs": [
    {
     "name": "stdout",
     "output_type": "stream",
     "text": [
      "<class 'pandas.core.frame.DataFrame'>\n",
      "Int64Index: 891 entries, 1 to 891\n",
      "Data columns (total 11 columns):\n",
      " #   Column    Non-Null Count  Dtype  \n",
      "---  ------    --------------  -----  \n",
      " 0   Survived  891 non-null    int64  \n",
      " 1   Pclass    891 non-null    int64  \n",
      " 2   Name      891 non-null    object \n",
      " 3   Sex       891 non-null    object \n",
      " 4   Age       714 non-null    float64\n",
      " 5   SibSp     891 non-null    int64  \n",
      " 6   Parch     891 non-null    int64  \n",
      " 7   Ticket    891 non-null    object \n",
      " 8   Fare      891 non-null    float64\n",
      " 9   Cabin     204 non-null    object \n",
      " 10  Embarked  889 non-null    object \n",
      "dtypes: float64(2), int64(4), object(5)\n",
      "memory usage: 83.5+ KB\n"
     ]
    }
   ],
   "source": [
    "df.info()"
   ]
  },
  {
   "cell_type": "markdown",
   "id": "6aa42c2d",
   "metadata": {
    "papermill": {
     "duration": 0.015463,
     "end_time": "2023-03-02T02:07:58.769259",
     "exception": false,
     "start_time": "2023-03-02T02:07:58.753796",
     "status": "completed"
    },
    "tags": []
   },
   "source": [
    "#### Missing values apparent from the above info. Check total numbers of missing data:"
   ]
  },
  {
   "cell_type": "code",
   "execution_count": 5,
   "id": "5e79cf7d",
   "metadata": {
    "execution": {
     "iopub.execute_input": "2023-03-02T02:07:58.802820Z",
     "iopub.status.busy": "2023-03-02T02:07:58.802421Z",
     "iopub.status.idle": "2023-03-02T02:07:58.811318Z",
     "shell.execute_reply": "2023-03-02T02:07:58.810482Z"
    },
    "papermill": {
     "duration": 0.028411,
     "end_time": "2023-03-02T02:07:58.813421",
     "exception": false,
     "start_time": "2023-03-02T02:07:58.785010",
     "status": "completed"
    },
    "scrolled": true,
    "tags": []
   },
   "outputs": [
    {
     "data": {
      "text/plain": [
       "Survived      0\n",
       "Pclass        0\n",
       "Name          0\n",
       "Sex           0\n",
       "Age         177\n",
       "SibSp         0\n",
       "Parch         0\n",
       "Ticket        0\n",
       "Fare          0\n",
       "Cabin       687\n",
       "Embarked      2\n",
       "dtype: int64"
      ]
     },
     "execution_count": 5,
     "metadata": {},
     "output_type": "execute_result"
    }
   ],
   "source": [
    "df.isnull().sum()"
   ]
  },
  {
   "cell_type": "markdown",
   "id": "61adf464",
   "metadata": {
    "papermill": {
     "duration": 0.015864,
     "end_time": "2023-03-02T02:07:58.845197",
     "exception": false,
     "start_time": "2023-03-02T02:07:58.829333",
     "status": "completed"
    },
    "tags": []
   },
   "source": [
    "#### A lot of missing data for Cabin, display the percent of missing data"
   ]
  },
  {
   "cell_type": "code",
   "execution_count": 6,
   "id": "f6769c21",
   "metadata": {
    "execution": {
     "iopub.execute_input": "2023-03-02T02:07:58.879809Z",
     "iopub.status.busy": "2023-03-02T02:07:58.878738Z",
     "iopub.status.idle": "2023-03-02T02:07:58.887058Z",
     "shell.execute_reply": "2023-03-02T02:07:58.885909Z"
    },
    "papermill": {
     "duration": 0.027673,
     "end_time": "2023-03-02T02:07:58.889195",
     "exception": false,
     "start_time": "2023-03-02T02:07:58.861522",
     "status": "completed"
    },
    "tags": []
   },
   "outputs": [
    {
     "name": "stdout",
     "output_type": "stream",
     "text": [
      "Cabin missing data: 77%\n"
     ]
    }
   ],
   "source": [
    "print(\"Cabin missing data: {:.0%}\".format(df.isnull().sum()['Cabin'] / len(df['Cabin'])))"
   ]
  },
  {
   "cell_type": "markdown",
   "id": "1c18c9a1",
   "metadata": {
    "papermill": {
     "duration": 0.016318,
     "end_time": "2023-03-02T02:07:58.921453",
     "exception": false,
     "start_time": "2023-03-02T02:07:58.905135",
     "status": "completed"
    },
    "tags": []
   },
   "source": [
    "#### Will not use Name or Ticket in this analysis as the name and ticket is unique to each individual so drop those columns.\n",
    "#### Also drop Cabin as there is a significant amount of missing data"
   ]
  },
  {
   "cell_type": "code",
   "execution_count": 7,
   "id": "0ca47f9f",
   "metadata": {
    "execution": {
     "iopub.execute_input": "2023-03-02T02:07:58.955766Z",
     "iopub.status.busy": "2023-03-02T02:07:58.954965Z",
     "iopub.status.idle": "2023-03-02T02:07:58.960641Z",
     "shell.execute_reply": "2023-03-02T02:07:58.959827Z"
    },
    "papermill": {
     "duration": 0.025114,
     "end_time": "2023-03-02T02:07:58.962772",
     "exception": false,
     "start_time": "2023-03-02T02:07:58.937658",
     "status": "completed"
    },
    "tags": []
   },
   "outputs": [],
   "source": [
    "df = df.drop(['Name', 'Ticket', 'Cabin'], axis=1)"
   ]
  },
  {
   "cell_type": "code",
   "execution_count": 8,
   "id": "2eca20fc",
   "metadata": {
    "execution": {
     "iopub.execute_input": "2023-03-02T02:07:58.997268Z",
     "iopub.status.busy": "2023-03-02T02:07:58.996495Z",
     "iopub.status.idle": "2023-03-02T02:07:59.015929Z",
     "shell.execute_reply": "2023-03-02T02:07:59.014960Z"
    },
    "papermill": {
     "duration": 0.03925,
     "end_time": "2023-03-02T02:07:59.018402",
     "exception": false,
     "start_time": "2023-03-02T02:07:58.979152",
     "status": "completed"
    },
    "tags": []
   },
   "outputs": [
    {
     "data": {
      "text/html": [
       "<div>\n",
       "<style scoped>\n",
       "    .dataframe tbody tr th:only-of-type {\n",
       "        vertical-align: middle;\n",
       "    }\n",
       "\n",
       "    .dataframe tbody tr th {\n",
       "        vertical-align: top;\n",
       "    }\n",
       "\n",
       "    .dataframe thead th {\n",
       "        text-align: right;\n",
       "    }\n",
       "</style>\n",
       "<table border=\"1\" class=\"dataframe\">\n",
       "  <thead>\n",
       "    <tr style=\"text-align: right;\">\n",
       "      <th></th>\n",
       "      <th>Survived</th>\n",
       "      <th>Pclass</th>\n",
       "      <th>Sex</th>\n",
       "      <th>Age</th>\n",
       "      <th>SibSp</th>\n",
       "      <th>Parch</th>\n",
       "      <th>Fare</th>\n",
       "      <th>Embarked</th>\n",
       "    </tr>\n",
       "    <tr>\n",
       "      <th>PassengerId</th>\n",
       "      <th></th>\n",
       "      <th></th>\n",
       "      <th></th>\n",
       "      <th></th>\n",
       "      <th></th>\n",
       "      <th></th>\n",
       "      <th></th>\n",
       "      <th></th>\n",
       "    </tr>\n",
       "  </thead>\n",
       "  <tbody>\n",
       "    <tr>\n",
       "      <th>1</th>\n",
       "      <td>0</td>\n",
       "      <td>3</td>\n",
       "      <td>male</td>\n",
       "      <td>22.0</td>\n",
       "      <td>1</td>\n",
       "      <td>0</td>\n",
       "      <td>7.2500</td>\n",
       "      <td>S</td>\n",
       "    </tr>\n",
       "    <tr>\n",
       "      <th>2</th>\n",
       "      <td>1</td>\n",
       "      <td>1</td>\n",
       "      <td>female</td>\n",
       "      <td>38.0</td>\n",
       "      <td>1</td>\n",
       "      <td>0</td>\n",
       "      <td>71.2833</td>\n",
       "      <td>C</td>\n",
       "    </tr>\n",
       "    <tr>\n",
       "      <th>3</th>\n",
       "      <td>1</td>\n",
       "      <td>3</td>\n",
       "      <td>female</td>\n",
       "      <td>26.0</td>\n",
       "      <td>0</td>\n",
       "      <td>0</td>\n",
       "      <td>7.9250</td>\n",
       "      <td>S</td>\n",
       "    </tr>\n",
       "    <tr>\n",
       "      <th>4</th>\n",
       "      <td>1</td>\n",
       "      <td>1</td>\n",
       "      <td>female</td>\n",
       "      <td>35.0</td>\n",
       "      <td>1</td>\n",
       "      <td>0</td>\n",
       "      <td>53.1000</td>\n",
       "      <td>S</td>\n",
       "    </tr>\n",
       "    <tr>\n",
       "      <th>5</th>\n",
       "      <td>0</td>\n",
       "      <td>3</td>\n",
       "      <td>male</td>\n",
       "      <td>35.0</td>\n",
       "      <td>0</td>\n",
       "      <td>0</td>\n",
       "      <td>8.0500</td>\n",
       "      <td>S</td>\n",
       "    </tr>\n",
       "    <tr>\n",
       "      <th>...</th>\n",
       "      <td>...</td>\n",
       "      <td>...</td>\n",
       "      <td>...</td>\n",
       "      <td>...</td>\n",
       "      <td>...</td>\n",
       "      <td>...</td>\n",
       "      <td>...</td>\n",
       "      <td>...</td>\n",
       "    </tr>\n",
       "    <tr>\n",
       "      <th>887</th>\n",
       "      <td>0</td>\n",
       "      <td>2</td>\n",
       "      <td>male</td>\n",
       "      <td>27.0</td>\n",
       "      <td>0</td>\n",
       "      <td>0</td>\n",
       "      <td>13.0000</td>\n",
       "      <td>S</td>\n",
       "    </tr>\n",
       "    <tr>\n",
       "      <th>888</th>\n",
       "      <td>1</td>\n",
       "      <td>1</td>\n",
       "      <td>female</td>\n",
       "      <td>19.0</td>\n",
       "      <td>0</td>\n",
       "      <td>0</td>\n",
       "      <td>30.0000</td>\n",
       "      <td>S</td>\n",
       "    </tr>\n",
       "    <tr>\n",
       "      <th>889</th>\n",
       "      <td>0</td>\n",
       "      <td>3</td>\n",
       "      <td>female</td>\n",
       "      <td>NaN</td>\n",
       "      <td>1</td>\n",
       "      <td>2</td>\n",
       "      <td>23.4500</td>\n",
       "      <td>S</td>\n",
       "    </tr>\n",
       "    <tr>\n",
       "      <th>890</th>\n",
       "      <td>1</td>\n",
       "      <td>1</td>\n",
       "      <td>male</td>\n",
       "      <td>26.0</td>\n",
       "      <td>0</td>\n",
       "      <td>0</td>\n",
       "      <td>30.0000</td>\n",
       "      <td>C</td>\n",
       "    </tr>\n",
       "    <tr>\n",
       "      <th>891</th>\n",
       "      <td>0</td>\n",
       "      <td>3</td>\n",
       "      <td>male</td>\n",
       "      <td>32.0</td>\n",
       "      <td>0</td>\n",
       "      <td>0</td>\n",
       "      <td>7.7500</td>\n",
       "      <td>Q</td>\n",
       "    </tr>\n",
       "  </tbody>\n",
       "</table>\n",
       "<p>891 rows × 8 columns</p>\n",
       "</div>"
      ],
      "text/plain": [
       "             Survived  Pclass     Sex   Age  SibSp  Parch     Fare Embarked\n",
       "PassengerId                                                                \n",
       "1                   0       3    male  22.0      1      0   7.2500        S\n",
       "2                   1       1  female  38.0      1      0  71.2833        C\n",
       "3                   1       3  female  26.0      0      0   7.9250        S\n",
       "4                   1       1  female  35.0      1      0  53.1000        S\n",
       "5                   0       3    male  35.0      0      0   8.0500        S\n",
       "...               ...     ...     ...   ...    ...    ...      ...      ...\n",
       "887                 0       2    male  27.0      0      0  13.0000        S\n",
       "888                 1       1  female  19.0      0      0  30.0000        S\n",
       "889                 0       3  female   NaN      1      2  23.4500        S\n",
       "890                 1       1    male  26.0      0      0  30.0000        C\n",
       "891                 0       3    male  32.0      0      0   7.7500        Q\n",
       "\n",
       "[891 rows x 8 columns]"
      ]
     },
     "execution_count": 8,
     "metadata": {},
     "output_type": "execute_result"
    }
   ],
   "source": [
    "df"
   ]
  },
  {
   "cell_type": "markdown",
   "id": "5ee36a2f",
   "metadata": {
    "papermill": {
     "duration": 0.015916,
     "end_time": "2023-03-02T02:07:59.050688",
     "exception": false,
     "start_time": "2023-03-02T02:07:59.034772",
     "status": "completed"
    },
    "tags": []
   },
   "source": [
    "#### Need to deal with the missing data for the Age column"
   ]
  },
  {
   "cell_type": "code",
   "execution_count": 9,
   "id": "526d17bc",
   "metadata": {
    "execution": {
     "iopub.execute_input": "2023-03-02T02:07:59.085474Z",
     "iopub.status.busy": "2023-03-02T02:07:59.084706Z",
     "iopub.status.idle": "2023-03-02T02:07:59.091567Z",
     "shell.execute_reply": "2023-03-02T02:07:59.090747Z"
    },
    "papermill": {
     "duration": 0.026952,
     "end_time": "2023-03-02T02:07:59.093902",
     "exception": false,
     "start_time": "2023-03-02T02:07:59.066950",
     "status": "completed"
    },
    "tags": []
   },
   "outputs": [
    {
     "data": {
      "text/plain": [
       "29.0"
      ]
     },
     "execution_count": 9,
     "metadata": {},
     "output_type": "execute_result"
    }
   ],
   "source": [
    "# Average age across all training data\n",
    "np.floor(df['Age'].mean())"
   ]
  },
  {
   "cell_type": "code",
   "execution_count": 10,
   "id": "0c21cfc6",
   "metadata": {
    "execution": {
     "iopub.execute_input": "2023-03-02T02:07:59.130280Z",
     "iopub.status.busy": "2023-03-02T02:07:59.129403Z",
     "iopub.status.idle": "2023-03-02T02:07:59.134974Z",
     "shell.execute_reply": "2023-03-02T02:07:59.134122Z"
    },
    "papermill": {
     "duration": 0.026055,
     "end_time": "2023-03-02T02:07:59.137525",
     "exception": false,
     "start_time": "2023-03-02T02:07:59.111470",
     "status": "completed"
    },
    "tags": []
   },
   "outputs": [],
   "source": [
    "# Fill in the NaN values with the average age\n",
    "df['Age'] = df['Age'].fillna(np.floor(df['Age'].mean()))"
   ]
  },
  {
   "cell_type": "code",
   "execution_count": 11,
   "id": "83e0c1ce",
   "metadata": {
    "execution": {
     "iopub.execute_input": "2023-03-02T02:07:59.172055Z",
     "iopub.status.busy": "2023-03-02T02:07:59.171652Z",
     "iopub.status.idle": "2023-03-02T02:07:59.180877Z",
     "shell.execute_reply": "2023-03-02T02:07:59.180082Z"
    },
    "papermill": {
     "duration": 0.028995,
     "end_time": "2023-03-02T02:07:59.182917",
     "exception": false,
     "start_time": "2023-03-02T02:07:59.153922",
     "status": "completed"
    },
    "tags": []
   },
   "outputs": [
    {
     "data": {
      "text/plain": [
       "Survived    0\n",
       "Pclass      0\n",
       "Sex         0\n",
       "Age         0\n",
       "SibSp       0\n",
       "Parch       0\n",
       "Fare        0\n",
       "Embarked    2\n",
       "dtype: int64"
      ]
     },
     "execution_count": 11,
     "metadata": {},
     "output_type": "execute_result"
    }
   ],
   "source": [
    "# Check remaining missing values\n",
    "df.isnull().sum()"
   ]
  },
  {
   "cell_type": "code",
   "execution_count": 12,
   "id": "97a78017",
   "metadata": {
    "execution": {
     "iopub.execute_input": "2023-03-02T02:07:59.218299Z",
     "iopub.status.busy": "2023-03-02T02:07:59.217849Z",
     "iopub.status.idle": "2023-03-02T02:07:59.225444Z",
     "shell.execute_reply": "2023-03-02T02:07:59.224252Z"
    },
    "papermill": {
     "duration": 0.028205,
     "end_time": "2023-03-02T02:07:59.227850",
     "exception": false,
     "start_time": "2023-03-02T02:07:59.199645",
     "status": "completed"
    },
    "tags": []
   },
   "outputs": [
    {
     "data": {
      "text/plain": [
       "array(['S', 'C', 'Q', nan], dtype=object)"
      ]
     },
     "execution_count": 12,
     "metadata": {},
     "output_type": "execute_result"
    }
   ],
   "source": [
    "# Check unique values for Embarked\n",
    "df['Embarked'].unique()"
   ]
  },
  {
   "cell_type": "code",
   "execution_count": 13,
   "id": "946017dc",
   "metadata": {
    "execution": {
     "iopub.execute_input": "2023-03-02T02:07:59.266668Z",
     "iopub.status.busy": "2023-03-02T02:07:59.266236Z",
     "iopub.status.idle": "2023-03-02T02:07:59.281603Z",
     "shell.execute_reply": "2023-03-02T02:07:59.280376Z"
    },
    "papermill": {
     "duration": 0.036419,
     "end_time": "2023-03-02T02:07:59.283803",
     "exception": false,
     "start_time": "2023-03-02T02:07:59.247384",
     "status": "completed"
    },
    "scrolled": true,
    "tags": []
   },
   "outputs": [
    {
     "data": {
      "text/html": [
       "<div>\n",
       "<style scoped>\n",
       "    .dataframe tbody tr th:only-of-type {\n",
       "        vertical-align: middle;\n",
       "    }\n",
       "\n",
       "    .dataframe tbody tr th {\n",
       "        vertical-align: top;\n",
       "    }\n",
       "\n",
       "    .dataframe thead th {\n",
       "        text-align: right;\n",
       "    }\n",
       "</style>\n",
       "<table border=\"1\" class=\"dataframe\">\n",
       "  <thead>\n",
       "    <tr style=\"text-align: right;\">\n",
       "      <th></th>\n",
       "      <th>Survived</th>\n",
       "      <th>Pclass</th>\n",
       "      <th>Sex</th>\n",
       "      <th>Age</th>\n",
       "      <th>SibSp</th>\n",
       "      <th>Parch</th>\n",
       "      <th>Fare</th>\n",
       "      <th>Embarked</th>\n",
       "    </tr>\n",
       "    <tr>\n",
       "      <th>PassengerId</th>\n",
       "      <th></th>\n",
       "      <th></th>\n",
       "      <th></th>\n",
       "      <th></th>\n",
       "      <th></th>\n",
       "      <th></th>\n",
       "      <th></th>\n",
       "      <th></th>\n",
       "    </tr>\n",
       "  </thead>\n",
       "  <tbody>\n",
       "    <tr>\n",
       "      <th>62</th>\n",
       "      <td>1</td>\n",
       "      <td>1</td>\n",
       "      <td>female</td>\n",
       "      <td>38.0</td>\n",
       "      <td>0</td>\n",
       "      <td>0</td>\n",
       "      <td>80.0</td>\n",
       "      <td>NaN</td>\n",
       "    </tr>\n",
       "    <tr>\n",
       "      <th>830</th>\n",
       "      <td>1</td>\n",
       "      <td>1</td>\n",
       "      <td>female</td>\n",
       "      <td>62.0</td>\n",
       "      <td>0</td>\n",
       "      <td>0</td>\n",
       "      <td>80.0</td>\n",
       "      <td>NaN</td>\n",
       "    </tr>\n",
       "  </tbody>\n",
       "</table>\n",
       "</div>"
      ],
      "text/plain": [
       "             Survived  Pclass     Sex   Age  SibSp  Parch  Fare Embarked\n",
       "PassengerId                                                             \n",
       "62                  1       1  female  38.0      0      0  80.0      NaN\n",
       "830                 1       1  female  62.0      0      0  80.0      NaN"
      ]
     },
     "execution_count": 13,
     "metadata": {},
     "output_type": "execute_result"
    }
   ],
   "source": [
    "# Look at the two rows containing missing Embarked data\n",
    "df[df['Embarked'].isnull()]"
   ]
  },
  {
   "cell_type": "markdown",
   "id": "281d4eab",
   "metadata": {
    "papermill": {
     "duration": 0.016812,
     "end_time": "2023-03-02T02:07:59.317626",
     "exception": false,
     "start_time": "2023-03-02T02:07:59.300814",
     "status": "completed"
    },
    "tags": []
   },
   "source": [
    "#### Both individuals above paid a Fare of 80. Look at where others who paid a similar fare embarked from."
   ]
  },
  {
   "cell_type": "code",
   "execution_count": 14,
   "id": "41b2f332",
   "metadata": {
    "execution": {
     "iopub.execute_input": "2023-03-02T02:07:59.353944Z",
     "iopub.status.busy": "2023-03-02T02:07:59.353454Z",
     "iopub.status.idle": "2023-03-02T02:07:59.365309Z",
     "shell.execute_reply": "2023-03-02T02:07:59.364141Z"
    },
    "papermill": {
     "duration": 0.033129,
     "end_time": "2023-03-02T02:07:59.367835",
     "exception": false,
     "start_time": "2023-03-02T02:07:59.334706",
     "status": "completed"
    },
    "tags": []
   },
   "outputs": [
    {
     "data": {
      "text/plain": [
       "C    31\n",
       "S    26\n",
       "Name: Embarked, dtype: int64"
      ]
     },
     "execution_count": 14,
     "metadata": {},
     "output_type": "execute_result"
    }
   ],
   "source": [
    "df[(df['Fare'] > 70) & (df['Fare'] > 90)]['Embarked'].value_counts()"
   ]
  },
  {
   "cell_type": "code",
   "execution_count": 15,
   "id": "14a69f4f",
   "metadata": {
    "execution": {
     "iopub.execute_input": "2023-03-02T02:07:59.405139Z",
     "iopub.status.busy": "2023-03-02T02:07:59.404690Z",
     "iopub.status.idle": "2023-03-02T02:07:59.410755Z",
     "shell.execute_reply": "2023-03-02T02:07:59.409533Z"
    },
    "papermill": {
     "duration": 0.027321,
     "end_time": "2023-03-02T02:07:59.413186",
     "exception": false,
     "start_time": "2023-03-02T02:07:59.385865",
     "status": "completed"
    },
    "tags": []
   },
   "outputs": [],
   "source": [
    "# Embarked from 'C' is slightly more common than from 'S', so fill in those NaN values with 'C' \n",
    "df['Embarked'] = df['Embarked'].fillna('C')"
   ]
  },
  {
   "cell_type": "code",
   "execution_count": 16,
   "id": "7feee8f4",
   "metadata": {
    "execution": {
     "iopub.execute_input": "2023-03-02T02:07:59.450253Z",
     "iopub.status.busy": "2023-03-02T02:07:59.449798Z",
     "iopub.status.idle": "2023-03-02T02:07:59.461641Z",
     "shell.execute_reply": "2023-03-02T02:07:59.460362Z"
    },
    "papermill": {
     "duration": 0.033788,
     "end_time": "2023-03-02T02:07:59.464306",
     "exception": false,
     "start_time": "2023-03-02T02:07:59.430518",
     "status": "completed"
    },
    "tags": []
   },
   "outputs": [
    {
     "data": {
      "text/plain": [
       "Survived    0\n",
       "Pclass      0\n",
       "Sex         0\n",
       "Age         0\n",
       "SibSp       0\n",
       "Parch       0\n",
       "Fare        0\n",
       "Embarked    0\n",
       "dtype: int64"
      ]
     },
     "execution_count": 16,
     "metadata": {},
     "output_type": "execute_result"
    }
   ],
   "source": [
    "# Confirm no more missing data\n",
    "df.isnull().sum()"
   ]
  },
  {
   "cell_type": "markdown",
   "id": "6afb17a1",
   "metadata": {
    "papermill": {
     "duration": 0.017892,
     "end_time": "2023-03-02T02:07:59.499517",
     "exception": false,
     "start_time": "2023-03-02T02:07:59.481625",
     "status": "completed"
    },
    "tags": []
   },
   "source": [
    "#### Explore if Fare category has any extreme outliers"
   ]
  },
  {
   "cell_type": "code",
   "execution_count": 17,
   "id": "8d10b65e",
   "metadata": {
    "execution": {
     "iopub.execute_input": "2023-03-02T02:07:59.535967Z",
     "iopub.status.busy": "2023-03-02T02:07:59.535448Z",
     "iopub.status.idle": "2023-03-02T02:07:59.548389Z",
     "shell.execute_reply": "2023-03-02T02:07:59.547144Z"
    },
    "papermill": {
     "duration": 0.033922,
     "end_time": "2023-03-02T02:07:59.550873",
     "exception": false,
     "start_time": "2023-03-02T02:07:59.516951",
     "status": "completed"
    },
    "tags": []
   },
   "outputs": [
    {
     "data": {
      "text/plain": [
       "count    891.000000\n",
       "mean      32.204208\n",
       "std       49.693429\n",
       "min        0.000000\n",
       "25%        7.910400\n",
       "50%       14.454200\n",
       "75%       31.000000\n",
       "max      512.329200\n",
       "Name: Fare, dtype: float64"
      ]
     },
     "execution_count": 17,
     "metadata": {},
     "output_type": "execute_result"
    }
   ],
   "source": [
    "df['Fare'].describe()"
   ]
  },
  {
   "cell_type": "code",
   "execution_count": 18,
   "id": "53ceef34",
   "metadata": {
    "execution": {
     "iopub.execute_input": "2023-03-02T02:07:59.588086Z",
     "iopub.status.busy": "2023-03-02T02:07:59.587563Z",
     "iopub.status.idle": "2023-03-02T02:07:59.819292Z",
     "shell.execute_reply": "2023-03-02T02:07:59.818153Z"
    },
    "papermill": {
     "duration": 0.253352,
     "end_time": "2023-03-02T02:07:59.822117",
     "exception": false,
     "start_time": "2023-03-02T02:07:59.568765",
     "status": "completed"
    },
    "tags": []
   },
   "outputs": [
    {
     "data": {
      "text/plain": [
       "<AxesSubplot:xlabel='Fare'>"
      ]
     },
     "execution_count": 18,
     "metadata": {},
     "output_type": "execute_result"
    },
    {
     "data": {
      "image/png": "[encoded data removed]",
      "text/plain": [
       "<Figure size 640x480 with 1 Axes>"
      ]
     },
     "metadata": {},
     "output_type": "display_data"
    }
   ],
   "source": [
    "sns.boxplot(data=df, x='Fare')"
   ]
  },
  {
   "cell_type": "code",
   "execution_count": 19,
   "id": "7c171a7e",
   "metadata": {
    "execution": {
     "iopub.execute_input": "2023-03-02T02:07:59.859773Z",
     "iopub.status.busy": "2023-03-02T02:07:59.859111Z",
     "iopub.status.idle": "2023-03-02T02:07:59.872577Z",
     "shell.execute_reply": "2023-03-02T02:07:59.871717Z"
    },
    "papermill": {
     "duration": 0.035154,
     "end_time": "2023-03-02T02:07:59.875060",
     "exception": false,
     "start_time": "2023-03-02T02:07:59.839906",
     "status": "completed"
    },
    "tags": []
   },
   "outputs": [
    {
     "data": {
      "text/html": [
       "<div>\n",
       "<style scoped>\n",
       "    .dataframe tbody tr th:only-of-type {\n",
       "        vertical-align: middle;\n",
       "    }\n",
       "\n",
       "    .dataframe tbody tr th {\n",
       "        vertical-align: top;\n",
       "    }\n",
       "\n",
       "    .dataframe thead th {\n",
       "        text-align: right;\n",
       "    }\n",
       "</style>\n",
       "<table border=\"1\" class=\"dataframe\">\n",
       "  <thead>\n",
       "    <tr style=\"text-align: right;\">\n",
       "      <th></th>\n",
       "      <th>Survived</th>\n",
       "      <th>Pclass</th>\n",
       "      <th>Sex</th>\n",
       "      <th>Age</th>\n",
       "      <th>SibSp</th>\n",
       "      <th>Parch</th>\n",
       "      <th>Fare</th>\n",
       "      <th>Embarked</th>\n",
       "    </tr>\n",
       "    <tr>\n",
       "      <th>PassengerId</th>\n",
       "      <th></th>\n",
       "      <th></th>\n",
       "      <th></th>\n",
       "      <th></th>\n",
       "      <th></th>\n",
       "      <th></th>\n",
       "      <th></th>\n",
       "      <th></th>\n",
       "    </tr>\n",
       "  </thead>\n",
       "  <tbody>\n",
       "    <tr>\n",
       "      <th>259</th>\n",
       "      <td>1</td>\n",
       "      <td>1</td>\n",
       "      <td>female</td>\n",
       "      <td>35.0</td>\n",
       "      <td>0</td>\n",
       "      <td>0</td>\n",
       "      <td>512.3292</td>\n",
       "      <td>C</td>\n",
       "    </tr>\n",
       "    <tr>\n",
       "      <th>680</th>\n",
       "      <td>1</td>\n",
       "      <td>1</td>\n",
       "      <td>male</td>\n",
       "      <td>36.0</td>\n",
       "      <td>0</td>\n",
       "      <td>1</td>\n",
       "      <td>512.3292</td>\n",
       "      <td>C</td>\n",
       "    </tr>\n",
       "    <tr>\n",
       "      <th>738</th>\n",
       "      <td>1</td>\n",
       "      <td>1</td>\n",
       "      <td>male</td>\n",
       "      <td>35.0</td>\n",
       "      <td>0</td>\n",
       "      <td>0</td>\n",
       "      <td>512.3292</td>\n",
       "      <td>C</td>\n",
       "    </tr>\n",
       "  </tbody>\n",
       "</table>\n",
       "</div>"
      ],
      "text/plain": [
       "             Survived  Pclass     Sex   Age  SibSp  Parch      Fare Embarked\n",
       "PassengerId                                                                 \n",
       "259                 1       1  female  35.0      0      0  512.3292        C\n",
       "680                 1       1    male  36.0      0      1  512.3292        C\n",
       "738                 1       1    male  35.0      0      0  512.3292        C"
      ]
     },
     "execution_count": 19,
     "metadata": {},
     "output_type": "execute_result"
    }
   ],
   "source": [
    "df[df['Fare'] > 500]"
   ]
  },
  {
   "cell_type": "markdown",
   "id": "f7573474",
   "metadata": {
    "papermill": {
     "duration": 0.018335,
     "end_time": "2023-03-02T02:07:59.911950",
     "exception": false,
     "start_time": "2023-03-02T02:07:59.893615",
     "status": "completed"
    },
    "tags": []
   },
   "source": [
    "#### Appears that the Fares over 500 are quite extreme outliers.\n",
    "#### Remove those values from our data"
   ]
  },
  {
   "cell_type": "code",
   "execution_count": 20,
   "id": "1fbaa1a3",
   "metadata": {
    "execution": {
     "iopub.execute_input": "2023-03-02T02:07:59.952049Z",
     "iopub.status.busy": "2023-03-02T02:07:59.951286Z",
     "iopub.status.idle": "2023-03-02T02:07:59.957268Z",
     "shell.execute_reply": "2023-03-02T02:07:59.955974Z"
    },
    "papermill": {
     "duration": 0.029073,
     "end_time": "2023-03-02T02:07:59.959961",
     "exception": false,
     "start_time": "2023-03-02T02:07:59.930888",
     "status": "completed"
    },
    "tags": []
   },
   "outputs": [],
   "source": [
    "df = df[df['Fare'] < 500]"
   ]
  },
  {
   "cell_type": "code",
   "execution_count": 21,
   "id": "fe4ce1a0",
   "metadata": {
    "execution": {
     "iopub.execute_input": "2023-03-02T02:07:59.997897Z",
     "iopub.status.busy": "2023-03-02T02:07:59.997503Z",
     "iopub.status.idle": "2023-03-02T02:08:00.191282Z",
     "shell.execute_reply": "2023-03-02T02:08:00.190444Z"
    },
    "papermill": {
     "duration": 0.2155,
     "end_time": "2023-03-02T02:08:00.193452",
     "exception": false,
     "start_time": "2023-03-02T02:07:59.977952",
     "status": "completed"
    },
    "tags": []
   },
   "outputs": [
    {
     "data": {
      "text/plain": [
       "<AxesSubplot:xlabel='Fare'>"
      ]
     },
     "execution_count": 21,
     "metadata": {},
     "output_type": "execute_result"
    },
    {
     "data": {
      "image/png": "[encoded data removed]",
      "text/plain": [
       "<Figure size 640x480 with 1 Axes>"
      ]
     },
     "metadata": {},
     "output_type": "display_data"
    }
   ],
   "source": [
    "sns.boxplot(data=df, x='Fare')"
   ]
  },
  {
   "cell_type": "markdown",
   "id": "4136f7e0",
   "metadata": {
    "papermill": {
     "duration": 0.018115,
     "end_time": "2023-03-02T02:08:00.229840",
     "exception": false,
     "start_time": "2023-03-02T02:08:00.211725",
     "status": "completed"
    },
    "tags": []
   },
   "source": [
    "#### Fare values above 200 are also quite extreme outliers. Remove as well"
   ]
  },
  {
   "cell_type": "code",
   "execution_count": 22,
   "id": "3ca85102",
   "metadata": {
    "execution": {
     "iopub.execute_input": "2023-03-02T02:08:00.269443Z",
     "iopub.status.busy": "2023-03-02T02:08:00.268656Z",
     "iopub.status.idle": "2023-03-02T02:08:00.274025Z",
     "shell.execute_reply": "2023-03-02T02:08:00.273226Z"
    },
    "papermill": {
     "duration": 0.028017,
     "end_time": "2023-03-02T02:08:00.276196",
     "exception": false,
     "start_time": "2023-03-02T02:08:00.248179",
     "status": "completed"
    },
    "tags": []
   },
   "outputs": [],
   "source": [
    "df = df[df['Fare'] < 200]"
   ]
  },
  {
   "cell_type": "code",
   "execution_count": 23,
   "id": "ba419b63",
   "metadata": {
    "execution": {
     "iopub.execute_input": "2023-03-02T02:08:00.314978Z",
     "iopub.status.busy": "2023-03-02T02:08:00.314225Z",
     "iopub.status.idle": "2023-03-02T02:08:00.333837Z",
     "shell.execute_reply": "2023-03-02T02:08:00.332574Z"
    },
    "papermill": {
     "duration": 0.0418,
     "end_time": "2023-03-02T02:08:00.336310",
     "exception": false,
     "start_time": "2023-03-02T02:08:00.294510",
     "status": "completed"
    },
    "tags": []
   },
   "outputs": [
    {
     "data": {
      "text/html": [
       "<div>\n",
       "<style scoped>\n",
       "    .dataframe tbody tr th:only-of-type {\n",
       "        vertical-align: middle;\n",
       "    }\n",
       "\n",
       "    .dataframe tbody tr th {\n",
       "        vertical-align: top;\n",
       "    }\n",
       "\n",
       "    .dataframe thead th {\n",
       "        text-align: right;\n",
       "    }\n",
       "</style>\n",
       "<table border=\"1\" class=\"dataframe\">\n",
       "  <thead>\n",
       "    <tr style=\"text-align: right;\">\n",
       "      <th></th>\n",
       "      <th>Survived</th>\n",
       "      <th>Pclass</th>\n",
       "      <th>Sex</th>\n",
       "      <th>Age</th>\n",
       "      <th>SibSp</th>\n",
       "      <th>Parch</th>\n",
       "      <th>Fare</th>\n",
       "      <th>Embarked</th>\n",
       "    </tr>\n",
       "    <tr>\n",
       "      <th>PassengerId</th>\n",
       "      <th></th>\n",
       "      <th></th>\n",
       "      <th></th>\n",
       "      <th></th>\n",
       "      <th></th>\n",
       "      <th></th>\n",
       "      <th></th>\n",
       "      <th></th>\n",
       "    </tr>\n",
       "  </thead>\n",
       "  <tbody>\n",
       "    <tr>\n",
       "      <th>1</th>\n",
       "      <td>0</td>\n",
       "      <td>3</td>\n",
       "      <td>male</td>\n",
       "      <td>22.0</td>\n",
       "      <td>1</td>\n",
       "      <td>0</td>\n",
       "      <td>7.2500</td>\n",
       "      <td>S</td>\n",
       "    </tr>\n",
       "    <tr>\n",
       "      <th>2</th>\n",
       "      <td>1</td>\n",
       "      <td>1</td>\n",
       "      <td>female</td>\n",
       "      <td>38.0</td>\n",
       "      <td>1</td>\n",
       "      <td>0</td>\n",
       "      <td>71.2833</td>\n",
       "      <td>C</td>\n",
       "    </tr>\n",
       "    <tr>\n",
       "      <th>3</th>\n",
       "      <td>1</td>\n",
       "      <td>3</td>\n",
       "      <td>female</td>\n",
       "      <td>26.0</td>\n",
       "      <td>0</td>\n",
       "      <td>0</td>\n",
       "      <td>7.9250</td>\n",
       "      <td>S</td>\n",
       "    </tr>\n",
       "    <tr>\n",
       "      <th>4</th>\n",
       "      <td>1</td>\n",
       "      <td>1</td>\n",
       "      <td>female</td>\n",
       "      <td>35.0</td>\n",
       "      <td>1</td>\n",
       "      <td>0</td>\n",
       "      <td>53.1000</td>\n",
       "      <td>S</td>\n",
       "    </tr>\n",
       "    <tr>\n",
       "      <th>5</th>\n",
       "      <td>0</td>\n",
       "      <td>3</td>\n",
       "      <td>male</td>\n",
       "      <td>35.0</td>\n",
       "      <td>0</td>\n",
       "      <td>0</td>\n",
       "      <td>8.0500</td>\n",
       "      <td>S</td>\n",
       "    </tr>\n",
       "    <tr>\n",
       "      <th>...</th>\n",
       "      <td>...</td>\n",
       "      <td>...</td>\n",
       "      <td>...</td>\n",
       "      <td>...</td>\n",
       "      <td>...</td>\n",
       "      <td>...</td>\n",
       "      <td>...</td>\n",
       "      <td>...</td>\n",
       "    </tr>\n",
       "    <tr>\n",
       "      <th>887</th>\n",
       "      <td>0</td>\n",
       "      <td>2</td>\n",
       "      <td>male</td>\n",
       "      <td>27.0</td>\n",
       "      <td>0</td>\n",
       "      <td>0</td>\n",
       "      <td>13.0000</td>\n",
       "      <td>S</td>\n",
       "    </tr>\n",
       "    <tr>\n",
       "      <th>888</th>\n",
       "      <td>1</td>\n",
       "      <td>1</td>\n",
       "      <td>female</td>\n",
       "      <td>19.0</td>\n",
       "      <td>0</td>\n",
       "      <td>0</td>\n",
       "      <td>30.0000</td>\n",
       "      <td>S</td>\n",
       "    </tr>\n",
       "    <tr>\n",
       "      <th>889</th>\n",
       "      <td>0</td>\n",
       "      <td>3</td>\n",
       "      <td>female</td>\n",
       "      <td>29.0</td>\n",
       "      <td>1</td>\n",
       "      <td>2</td>\n",
       "      <td>23.4500</td>\n",
       "      <td>S</td>\n",
       "    </tr>\n",
       "    <tr>\n",
       "      <th>890</th>\n",
       "      <td>1</td>\n",
       "      <td>1</td>\n",
       "      <td>male</td>\n",
       "      <td>26.0</td>\n",
       "      <td>0</td>\n",
       "      <td>0</td>\n",
       "      <td>30.0000</td>\n",
       "      <td>C</td>\n",
       "    </tr>\n",
       "    <tr>\n",
       "      <th>891</th>\n",
       "      <td>0</td>\n",
       "      <td>3</td>\n",
       "      <td>male</td>\n",
       "      <td>32.0</td>\n",
       "      <td>0</td>\n",
       "      <td>0</td>\n",
       "      <td>7.7500</td>\n",
       "      <td>Q</td>\n",
       "    </tr>\n",
       "  </tbody>\n",
       "</table>\n",
       "<p>871 rows × 8 columns</p>\n",
       "</div>"
      ],
      "text/plain": [
       "             Survived  Pclass     Sex   Age  SibSp  Parch     Fare Embarked\n",
       "PassengerId                                                                \n",
       "1                   0       3    male  22.0      1      0   7.2500        S\n",
       "2                   1       1  female  38.0      1      0  71.2833        C\n",
       "3                   1       3  female  26.0      0      0   7.9250        S\n",
       "4                   1       1  female  35.0      1      0  53.1000        S\n",
       "5                   0       3    male  35.0      0      0   8.0500        S\n",
       "...               ...     ...     ...   ...    ...    ...      ...      ...\n",
       "887                 0       2    male  27.0      0      0  13.0000        S\n",
       "888                 1       1  female  19.0      0      0  30.0000        S\n",
       "889                 0       3  female  29.0      1      2  23.4500        S\n",
       "890                 1       1    male  26.0      0      0  30.0000        C\n",
       "891                 0       3    male  32.0      0      0   7.7500        Q\n",
       "\n",
       "[871 rows x 8 columns]"
      ]
     },
     "execution_count": 23,
     "metadata": {},
     "output_type": "execute_result"
    }
   ],
   "source": [
    "df"
   ]
  },
  {
   "cell_type": "markdown",
   "id": "4ce58a1e",
   "metadata": {
    "papermill": {
     "duration": 0.0182,
     "end_time": "2023-03-02T02:08:00.373061",
     "exception": false,
     "start_time": "2023-03-02T02:08:00.354861",
     "status": "completed"
    },
    "tags": []
   },
   "source": [
    "#### Convert the Pclass category to the corresponding categories. Pclass is an indicator of socioeconomic status as follows:\n",
    "    1 -> Upper\n",
    "    2 -> Middle\n",
    "    3 -> Lower"
   ]
  },
  {
   "cell_type": "code",
   "execution_count": 24,
   "id": "21604a3e",
   "metadata": {
    "execution": {
     "iopub.execute_input": "2023-03-02T02:08:00.412112Z",
     "iopub.status.busy": "2023-03-02T02:08:00.411663Z",
     "iopub.status.idle": "2023-03-02T02:08:00.418262Z",
     "shell.execute_reply": "2023-03-02T02:08:00.416976Z"
    },
    "papermill": {
     "duration": 0.028779,
     "end_time": "2023-03-02T02:08:00.420432",
     "exception": false,
     "start_time": "2023-03-02T02:08:00.391653",
     "status": "completed"
    },
    "tags": []
   },
   "outputs": [],
   "source": [
    "df['Pclass'] = df['Pclass'].map({1: 'upper', 2: 'middle', 3: 'lower'})"
   ]
  },
  {
   "cell_type": "markdown",
   "id": "86c3ae06",
   "metadata": {
    "papermill": {
     "duration": 0.019891,
     "end_time": "2023-03-02T02:08:00.459778",
     "exception": false,
     "start_time": "2023-03-02T02:08:00.439887",
     "status": "completed"
    },
    "tags": []
   },
   "source": [
    "#### Get dummy variables for categorical features (Sex, Pclass, and Embarked)"
   ]
  },
  {
   "cell_type": "code",
   "execution_count": 25,
   "id": "f7d5290e",
   "metadata": {
    "execution": {
     "iopub.execute_input": "2023-03-02T02:08:00.500264Z",
     "iopub.status.busy": "2023-03-02T02:08:00.499468Z",
     "iopub.status.idle": "2023-03-02T02:08:00.513479Z",
     "shell.execute_reply": "2023-03-02T02:08:00.512325Z"
    },
    "papermill": {
     "duration": 0.037049,
     "end_time": "2023-03-02T02:08:00.516163",
     "exception": false,
     "start_time": "2023-03-02T02:08:00.479114",
     "status": "completed"
    },
    "tags": []
   },
   "outputs": [],
   "source": [
    "df_dummy = pd.get_dummies(df, drop_first=True)"
   ]
  },
  {
   "cell_type": "code",
   "execution_count": 26,
   "id": "2bf52efc",
   "metadata": {
    "execution": {
     "iopub.execute_input": "2023-03-02T02:08:00.556356Z",
     "iopub.status.busy": "2023-03-02T02:08:00.555619Z",
     "iopub.status.idle": "2023-03-02T02:08:00.574955Z",
     "shell.execute_reply": "2023-03-02T02:08:00.573613Z"
    },
    "papermill": {
     "duration": 0.042124,
     "end_time": "2023-03-02T02:08:00.577612",
     "exception": false,
     "start_time": "2023-03-02T02:08:00.535488",
     "status": "completed"
    },
    "tags": []
   },
   "outputs": [
    {
     "data": {
      "text/html": [
       "<div>\n",
       "<style scoped>\n",
       "    .dataframe tbody tr th:only-of-type {\n",
       "        vertical-align: middle;\n",
       "    }\n",
       "\n",
       "    .dataframe tbody tr th {\n",
       "        vertical-align: top;\n",
       "    }\n",
       "\n",
       "    .dataframe thead th {\n",
       "        text-align: right;\n",
       "    }\n",
       "</style>\n",
       "<table border=\"1\" class=\"dataframe\">\n",
       "  <thead>\n",
       "    <tr style=\"text-align: right;\">\n",
       "      <th></th>\n",
       "      <th>Survived</th>\n",
       "      <th>Age</th>\n",
       "      <th>SibSp</th>\n",
       "      <th>Parch</th>\n",
       "      <th>Fare</th>\n",
       "      <th>Pclass_middle</th>\n",
       "      <th>Pclass_upper</th>\n",
       "      <th>Sex_male</th>\n",
       "      <th>Embarked_Q</th>\n",
       "      <th>Embarked_S</th>\n",
       "    </tr>\n",
       "    <tr>\n",
       "      <th>PassengerId</th>\n",
       "      <th></th>\n",
       "      <th></th>\n",
       "      <th></th>\n",
       "      <th></th>\n",
       "      <th></th>\n",
       "      <th></th>\n",
       "      <th></th>\n",
       "      <th></th>\n",
       "      <th></th>\n",
       "      <th></th>\n",
       "    </tr>\n",
       "  </thead>\n",
       "  <tbody>\n",
       "    <tr>\n",
       "      <th>1</th>\n",
       "      <td>0</td>\n",
       "      <td>22.0</td>\n",
       "      <td>1</td>\n",
       "      <td>0</td>\n",
       "      <td>7.2500</td>\n",
       "      <td>0</td>\n",
       "      <td>0</td>\n",
       "      <td>1</td>\n",
       "      <td>0</td>\n",
       "      <td>1</td>\n",
       "    </tr>\n",
       "    <tr>\n",
       "      <th>2</th>\n",
       "      <td>1</td>\n",
       "      <td>38.0</td>\n",
       "      <td>1</td>\n",
       "      <td>0</td>\n",
       "      <td>71.2833</td>\n",
       "      <td>0</td>\n",
       "      <td>1</td>\n",
       "      <td>0</td>\n",
       "      <td>0</td>\n",
       "      <td>0</td>\n",
       "    </tr>\n",
       "    <tr>\n",
       "      <th>3</th>\n",
       "      <td>1</td>\n",
       "      <td>26.0</td>\n",
       "      <td>0</td>\n",
       "      <td>0</td>\n",
       "      <td>7.9250</td>\n",
       "      <td>0</td>\n",
       "      <td>0</td>\n",
       "      <td>0</td>\n",
       "      <td>0</td>\n",
       "      <td>1</td>\n",
       "    </tr>\n",
       "    <tr>\n",
       "      <th>4</th>\n",
       "      <td>1</td>\n",
       "      <td>35.0</td>\n",
       "      <td>1</td>\n",
       "      <td>0</td>\n",
       "      <td>53.1000</td>\n",
       "      <td>0</td>\n",
       "      <td>1</td>\n",
       "      <td>0</td>\n",
       "      <td>0</td>\n",
       "      <td>1</td>\n",
       "    </tr>\n",
       "    <tr>\n",
       "      <th>5</th>\n",
       "      <td>0</td>\n",
       "      <td>35.0</td>\n",
       "      <td>0</td>\n",
       "      <td>0</td>\n",
       "      <td>8.0500</td>\n",
       "      <td>0</td>\n",
       "      <td>0</td>\n",
       "      <td>1</td>\n",
       "      <td>0</td>\n",
       "      <td>1</td>\n",
       "    </tr>\n",
       "    <tr>\n",
       "      <th>...</th>\n",
       "      <td>...</td>\n",
       "      <td>...</td>\n",
       "      <td>...</td>\n",
       "      <td>...</td>\n",
       "      <td>...</td>\n",
       "      <td>...</td>\n",
       "      <td>...</td>\n",
       "      <td>...</td>\n",
       "      <td>...</td>\n",
       "      <td>...</td>\n",
       "    </tr>\n",
       "    <tr>\n",
       "      <th>887</th>\n",
       "      <td>0</td>\n",
       "      <td>27.0</td>\n",
       "      <td>0</td>\n",
       "      <td>0</td>\n",
       "      <td>13.0000</td>\n",
       "      <td>1</td>\n",
       "      <td>0</td>\n",
       "      <td>1</td>\n",
       "      <td>0</td>\n",
       "      <td>1</td>\n",
       "    </tr>\n",
       "    <tr>\n",
       "      <th>888</th>\n",
       "      <td>1</td>\n",
       "      <td>19.0</td>\n",
       "      <td>0</td>\n",
       "      <td>0</td>\n",
       "      <td>30.0000</td>\n",
       "      <td>0</td>\n",
       "      <td>1</td>\n",
       "      <td>0</td>\n",
       "      <td>0</td>\n",
       "      <td>1</td>\n",
       "    </tr>\n",
       "    <tr>\n",
       "      <th>889</th>\n",
       "      <td>0</td>\n",
       "      <td>29.0</td>\n",
       "      <td>1</td>\n",
       "      <td>2</td>\n",
       "      <td>23.4500</td>\n",
       "      <td>0</td>\n",
       "      <td>0</td>\n",
       "      <td>0</td>\n",
       "      <td>0</td>\n",
       "      <td>1</td>\n",
       "    </tr>\n",
       "    <tr>\n",
       "      <th>890</th>\n",
       "      <td>1</td>\n",
       "      <td>26.0</td>\n",
       "      <td>0</td>\n",
       "      <td>0</td>\n",
       "      <td>30.0000</td>\n",
       "      <td>0</td>\n",
       "      <td>1</td>\n",
       "      <td>1</td>\n",
       "      <td>0</td>\n",
       "      <td>0</td>\n",
       "    </tr>\n",
       "    <tr>\n",
       "      <th>891</th>\n",
       "      <td>0</td>\n",
       "      <td>32.0</td>\n",
       "      <td>0</td>\n",
       "      <td>0</td>\n",
       "      <td>7.7500</td>\n",
       "      <td>0</td>\n",
       "      <td>0</td>\n",
       "      <td>1</td>\n",
       "      <td>1</td>\n",
       "      <td>0</td>\n",
       "    </tr>\n",
       "  </tbody>\n",
       "</table>\n",
       "<p>871 rows × 10 columns</p>\n",
       "</div>"
      ],
      "text/plain": [
       "             Survived   Age  SibSp  Parch     Fare  Pclass_middle  \\\n",
       "PassengerId                                                         \n",
       "1                   0  22.0      1      0   7.2500              0   \n",
       "2                   1  38.0      1      0  71.2833              0   \n",
       "3                   1  26.0      0      0   7.9250              0   \n",
       "4                   1  35.0      1      0  53.1000              0   \n",
       "5                   0  35.0      0      0   8.0500              0   \n",
       "...               ...   ...    ...    ...      ...            ...   \n",
       "887                 0  27.0      0      0  13.0000              1   \n",
       "888                 1  19.0      0      0  30.0000              0   \n",
       "889                 0  29.0      1      2  23.4500              0   \n",
       "890                 1  26.0      0      0  30.0000              0   \n",
       "891                 0  32.0      0      0   7.7500              0   \n",
       "\n",
       "             Pclass_upper  Sex_male  Embarked_Q  Embarked_S  \n",
       "PassengerId                                                  \n",
       "1                       0         1           0           1  \n",
       "2                       1         0           0           0  \n",
       "3                       0         0           0           1  \n",
       "4                       1         0           0           1  \n",
       "5                       0         1           0           1  \n",
       "...                   ...       ...         ...         ...  \n",
       "887                     0         1           0           1  \n",
       "888                     1         0           0           1  \n",
       "889                     0         0           0           1  \n",
       "890                     1         1           0           0  \n",
       "891                     0         1           1           0  \n",
       "\n",
       "[871 rows x 10 columns]"
      ]
     },
     "execution_count": 26,
     "metadata": {},
     "output_type": "execute_result"
    }
   ],
   "source": [
    "df_dummy"
   ]
  },
  {
   "cell_type": "markdown",
   "id": "940a7786",
   "metadata": {
    "papermill": {
     "duration": 0.019438,
     "end_time": "2023-03-02T02:08:00.616641",
     "exception": false,
     "start_time": "2023-03-02T02:08:00.597203",
     "status": "completed"
    },
    "tags": []
   },
   "source": [
    "#### Remaining features correlation values to the target column (Survived)"
   ]
  },
  {
   "cell_type": "code",
   "execution_count": 27,
   "id": "31cb1196",
   "metadata": {
    "execution": {
     "iopub.execute_input": "2023-03-02T02:08:00.656531Z",
     "iopub.status.busy": "2023-03-02T02:08:00.656101Z",
     "iopub.status.idle": "2023-03-02T02:08:00.668014Z",
     "shell.execute_reply": "2023-03-02T02:08:00.667151Z"
    },
    "papermill": {
     "duration": 0.034889,
     "end_time": "2023-03-02T02:08:00.670349",
     "exception": false,
     "start_time": "2023-03-02T02:08:00.635460",
     "status": "completed"
    },
    "tags": []
   },
   "outputs": [
    {
     "data": {
      "text/plain": [
       "Survived         1.000000\n",
       "Age             -0.070001\n",
       "SibSp           -0.040547\n",
       "Parch            0.080408\n",
       "Fare             0.298671\n",
       "Pclass_middle    0.102802\n",
       "Pclass_upper     0.273441\n",
       "Sex_male        -0.534088\n",
       "Embarked_Q       0.008376\n",
       "Embarked_S      -0.146830\n",
       "Name: Survived, dtype: float64"
      ]
     },
     "execution_count": 27,
     "metadata": {},
     "output_type": "execute_result"
    }
   ],
   "source": [
    "df_dummy.corr()['Survived']"
   ]
  },
  {
   "cell_type": "markdown",
   "id": "ed2217c8",
   "metadata": {
    "papermill": {
     "duration": 0.018533,
     "end_time": "2023-03-02T02:08:00.707871",
     "exception": false,
     "start_time": "2023-03-02T02:08:00.689338",
     "status": "completed"
    },
    "tags": []
   },
   "source": [
    "# Train test split"
   ]
  },
  {
   "cell_type": "code",
   "execution_count": 28,
   "id": "cf0b9123",
   "metadata": {
    "execution": {
     "iopub.execute_input": "2023-03-02T02:08:00.748008Z",
     "iopub.status.busy": "2023-03-02T02:08:00.747226Z",
     "iopub.status.idle": "2023-03-02T02:08:00.754369Z",
     "shell.execute_reply": "2023-03-02T02:08:00.753191Z"
    },
    "papermill": {
     "duration": 0.029578,
     "end_time": "2023-03-02T02:08:00.756571",
     "exception": false,
     "start_time": "2023-03-02T02:08:00.726993",
     "status": "completed"
    },
    "tags": []
   },
   "outputs": [],
   "source": [
    "X = df_dummy.drop('Survived', axis=1)\n",
    "y = df_dummy['Survived']"
   ]
  },
  {
   "cell_type": "code",
   "execution_count": 29,
   "id": "c0dbecfc",
   "metadata": {
    "execution": {
     "iopub.execute_input": "2023-03-02T02:08:00.796484Z",
     "iopub.status.busy": "2023-03-02T02:08:00.795665Z",
     "iopub.status.idle": "2023-03-02T02:08:01.008692Z",
     "shell.execute_reply": "2023-03-02T02:08:01.007575Z"
    },
    "papermill": {
     "duration": 0.236098,
     "end_time": "2023-03-02T02:08:01.011548",
     "exception": false,
     "start_time": "2023-03-02T02:08:00.775450",
     "status": "completed"
    },
    "tags": []
   },
   "outputs": [],
   "source": [
    "from sklearn.model_selection import train_test_split"
   ]
  },
  {
   "cell_type": "code",
   "execution_count": 30,
   "id": "b34a62b6",
   "metadata": {
    "execution": {
     "iopub.execute_input": "2023-03-02T02:08:01.052668Z",
     "iopub.status.busy": "2023-03-02T02:08:01.051761Z",
     "iopub.status.idle": "2023-03-02T02:08:01.060771Z",
     "shell.execute_reply": "2023-03-02T02:08:01.059862Z"
    },
    "papermill": {
     "duration": 0.031446,
     "end_time": "2023-03-02T02:08:01.062950",
     "exception": false,
     "start_time": "2023-03-02T02:08:01.031504",
     "status": "completed"
    },
    "tags": []
   },
   "outputs": [],
   "source": [
    "X_train, X_test, y_train, y_test = train_test_split(X, y, test_size=0.3, random_state=101)"
   ]
  },
  {
   "cell_type": "markdown",
   "id": "2541c875",
   "metadata": {
    "papermill": {
     "duration": 0.018481,
     "end_time": "2023-03-02T02:08:01.100397",
     "exception": false,
     "start_time": "2023-03-02T02:08:01.081916",
     "status": "completed"
    },
    "tags": []
   },
   "source": [
    "# Scaling"
   ]
  },
  {
   "cell_type": "code",
   "execution_count": 31,
   "id": "7590ef95",
   "metadata": {
    "execution": {
     "iopub.execute_input": "2023-03-02T02:08:01.140453Z",
     "iopub.status.busy": "2023-03-02T02:08:01.139335Z",
     "iopub.status.idle": "2023-03-02T02:08:01.150339Z",
     "shell.execute_reply": "2023-03-02T02:08:01.149293Z"
    },
    "papermill": {
     "duration": 0.033683,
     "end_time": "2023-03-02T02:08:01.152804",
     "exception": false,
     "start_time": "2023-03-02T02:08:01.119121",
     "status": "completed"
    },
    "tags": []
   },
   "outputs": [],
   "source": [
    "from sklearn.preprocessing import StandardScaler\n",
    "\n",
    "scaler = StandardScaler()\n",
    "\n",
    "# Fit_transform to training data, but not to test data\n",
    "scaled_X_train = scaler.fit_transform(X_train)\n",
    "scaled_X_test = scaler.transform(X_test)"
   ]
  },
  {
   "cell_type": "markdown",
   "id": "8e22ac1c",
   "metadata": {
    "papermill": {
     "duration": 0.018715,
     "end_time": "2023-03-02T02:08:01.191552",
     "exception": false,
     "start_time": "2023-03-02T02:08:01.172837",
     "status": "completed"
    },
    "tags": []
   },
   "source": [
    "# SVM\n",
    "Using an SVM for first attempt employing a grid search to find the best hyperparameters"
   ]
  },
  {
   "cell_type": "code",
   "execution_count": 32,
   "id": "fd0f20a0",
   "metadata": {
    "execution": {
     "iopub.execute_input": "2023-03-02T02:08:01.231866Z",
     "iopub.status.busy": "2023-03-02T02:08:01.230930Z",
     "iopub.status.idle": "2023-03-02T02:08:01.314059Z",
     "shell.execute_reply": "2023-03-02T02:08:01.312842Z"
    },
    "papermill": {
     "duration": 0.106457,
     "end_time": "2023-03-02T02:08:01.316971",
     "exception": false,
     "start_time": "2023-03-02T02:08:01.210514",
     "status": "completed"
    },
    "tags": []
   },
   "outputs": [],
   "source": [
    "from sklearn.svm import SVC\n",
    "from sklearn.model_selection import GridSearchCV"
   ]
  },
  {
   "cell_type": "code",
   "execution_count": 33,
   "id": "e189426d",
   "metadata": {
    "execution": {
     "iopub.execute_input": "2023-03-02T02:08:01.356945Z",
     "iopub.status.busy": "2023-03-02T02:08:01.355734Z",
     "iopub.status.idle": "2023-03-02T02:08:01.361539Z",
     "shell.execute_reply": "2023-03-02T02:08:01.360744Z"
    },
    "papermill": {
     "duration": 0.027937,
     "end_time": "2023-03-02T02:08:01.363699",
     "exception": false,
     "start_time": "2023-03-02T02:08:01.335762",
     "status": "completed"
    },
    "tags": []
   },
   "outputs": [],
   "source": [
    "# Set up parameter grid for GridSearch\n",
    "param_grid = {'C': np.arange(0.1, 3.1, 0.1),\n",
    "              'degree': np.arange(1, 6),\n",
    "              'gamma': ['scale', 'auto'],\n",
    "              'tol': [1e-4, 1e-3, 1e-2, 1e-1, 1],\n",
    "              'class_weight': [None, 'balanced']}"
   ]
  },
  {
   "cell_type": "code",
   "execution_count": 34,
   "id": "497a61a0",
   "metadata": {
    "execution": {
     "iopub.execute_input": "2023-03-02T02:08:01.403406Z",
     "iopub.status.busy": "2023-03-02T02:08:01.402365Z",
     "iopub.status.idle": "2023-03-02T02:08:01.407157Z",
     "shell.execute_reply": "2023-03-02T02:08:01.406357Z"
    },
    "papermill": {
     "duration": 0.026975,
     "end_time": "2023-03-02T02:08:01.409392",
     "exception": false,
     "start_time": "2023-03-02T02:08:01.382417",
     "status": "completed"
    },
    "tags": []
   },
   "outputs": [],
   "source": [
    "# Initialize svc instance and grid search\n",
    "svc = SVC(random_state=101)\n",
    "\n",
    "grid_svc = GridSearchCV(svc, param_grid)"
   ]
  },
  {
   "cell_type": "code",
   "execution_count": 35,
   "id": "8543e5aa",
   "metadata": {
    "execution": {
     "iopub.execute_input": "2023-03-02T02:08:01.451252Z",
     "iopub.status.busy": "2023-03-02T02:08:01.450168Z",
     "iopub.status.idle": "2023-03-02T02:11:10.111541Z",
     "shell.execute_reply": "2023-03-02T02:11:10.110240Z"
    },
    "papermill": {
     "duration": 188.704548,
     "end_time": "2023-03-02T02:11:10.133813",
     "exception": false,
     "start_time": "2023-03-02T02:08:01.429265",
     "status": "completed"
    },
    "tags": []
   },
   "outputs": [
    {
     "data": {
      "text/plain": [
       "GridSearchCV(estimator=SVC(random_state=101),\n",
       "             param_grid={'C': array([0.1, 0.2, 0.3, 0.4, 0.5, 0.6, 0.7, 0.8, 0.9, 1. , 1.1, 1.2, 1.3,\n",
       "       1.4, 1.5, 1.6, 1.7, 1.8, 1.9, 2. , 2.1, 2.2, 2.3, 2.4, 2.5, 2.6,\n",
       "       2.7, 2.8, 2.9, 3. ]),\n",
       "                         'class_weight': [None, 'balanced'],\n",
       "                         'degree': array([1, 2, 3, 4, 5]),\n",
       "                         'gamma': ['scale', 'auto'],\n",
       "                         'tol': [0.0001, 0.001, 0.01, 0.1, 1]})"
      ]
     },
     "execution_count": 35,
     "metadata": {},
     "output_type": "execute_result"
    }
   ],
   "source": [
    "# Fit the grid to the training data\n",
    "grid_svc.fit(scaled_X_train, y_train)"
   ]
  },
  {
   "cell_type": "markdown",
   "id": "c5a9f0db",
   "metadata": {
    "papermill": {
     "duration": 0.019573,
     "end_time": "2023-03-02T02:11:10.174133",
     "exception": false,
     "start_time": "2023-03-02T02:11:10.154560",
     "status": "completed"
    },
    "tags": []
   },
   "source": [
    "# Performance Metrics"
   ]
  },
  {
   "cell_type": "code",
   "execution_count": 36,
   "id": "023ea030",
   "metadata": {
    "execution": {
     "iopub.execute_input": "2023-03-02T02:11:10.214693Z",
     "iopub.status.busy": "2023-03-02T02:11:10.214257Z",
     "iopub.status.idle": "2023-03-02T02:11:10.219517Z",
     "shell.execute_reply": "2023-03-02T02:11:10.218423Z"
    },
    "papermill": {
     "duration": 0.028412,
     "end_time": "2023-03-02T02:11:10.221855",
     "exception": false,
     "start_time": "2023-03-02T02:11:10.193443",
     "status": "completed"
    },
    "tags": []
   },
   "outputs": [],
   "source": [
    "from sklearn.metrics import classification_report"
   ]
  },
  {
   "cell_type": "code",
   "execution_count": 37,
   "id": "699dca88",
   "metadata": {
    "execution": {
     "iopub.execute_input": "2023-03-02T02:11:10.263025Z",
     "iopub.status.busy": "2023-03-02T02:11:10.262289Z",
     "iopub.status.idle": "2023-03-02T02:11:10.272502Z",
     "shell.execute_reply": "2023-03-02T02:11:10.270569Z"
    },
    "papermill": {
     "duration": 0.033893,
     "end_time": "2023-03-02T02:11:10.275399",
     "exception": false,
     "start_time": "2023-03-02T02:11:10.241506",
     "status": "completed"
    },
    "tags": []
   },
   "outputs": [],
   "source": [
    "svc_preds = grid_svc.predict(scaled_X_test)"
   ]
  },
  {
   "cell_type": "code",
   "execution_count": 38,
   "id": "02f47f08",
   "metadata": {
    "execution": {
     "iopub.execute_input": "2023-03-02T02:11:10.316107Z",
     "iopub.status.busy": "2023-03-02T02:11:10.315648Z",
     "iopub.status.idle": "2023-03-02T02:11:10.327934Z",
     "shell.execute_reply": "2023-03-02T02:11:10.326684Z"
    },
    "papermill": {
     "duration": 0.036013,
     "end_time": "2023-03-02T02:11:10.330962",
     "exception": false,
     "start_time": "2023-03-02T02:11:10.294949",
     "status": "completed"
    },
    "tags": []
   },
   "outputs": [
    {
     "name": "stdout",
     "output_type": "stream",
     "text": [
      "              precision    recall  f1-score   support\n",
      "\n",
      "           0       0.86      0.91      0.88       172\n",
      "           1       0.80      0.71      0.75        90\n",
      "\n",
      "    accuracy                           0.84       262\n",
      "   macro avg       0.83      0.81      0.82       262\n",
      "weighted avg       0.84      0.84      0.84       262\n",
      "\n"
     ]
    }
   ],
   "source": [
    "print(classification_report(y_test, svc_preds))"
   ]
  },
  {
   "cell_type": "markdown",
   "id": "52f455a2",
   "metadata": {
    "papermill": {
     "duration": 0.019286,
     "end_time": "2023-03-02T02:11:10.370868",
     "exception": false,
     "start_time": "2023-03-02T02:11:10.351582",
     "status": "completed"
    },
    "tags": []
   },
   "source": [
    "84% overall accuracy on the test set. Could optimize using a larger parameter grid or attempt to use a randomized search\n",
    "to improve this score. Could also attempt to extract more meaningful information from the Name and Cabin columns which\n",
    "were dropped. For now, will submit test predictions."
   ]
  },
  {
   "cell_type": "markdown",
   "id": "0c9b52a9",
   "metadata": {
    "papermill": {
     "duration": 0.019016,
     "end_time": "2023-03-02T02:11:10.409286",
     "exception": false,
     "start_time": "2023-03-02T02:11:10.390270",
     "status": "completed"
    },
    "tags": []
   },
   "source": [
    "#### Grab the best estimator found from the grid search and fit to the entire data set now"
   ]
  },
  {
   "cell_type": "code",
   "execution_count": 39,
   "id": "44246035",
   "metadata": {
    "execution": {
     "iopub.execute_input": "2023-03-02T02:11:10.450637Z",
     "iopub.status.busy": "2023-03-02T02:11:10.449509Z",
     "iopub.status.idle": "2023-03-02T02:11:10.455490Z",
     "shell.execute_reply": "2023-03-02T02:11:10.454151Z"
    },
    "papermill": {
     "duration": 0.029408,
     "end_time": "2023-03-02T02:11:10.458051",
     "exception": false,
     "start_time": "2023-03-02T02:11:10.428643",
     "status": "completed"
    },
    "tags": []
   },
   "outputs": [],
   "source": [
    "svc = grid_svc.best_estimator_"
   ]
  },
  {
   "cell_type": "code",
   "execution_count": 40,
   "id": "c588a2ac",
   "metadata": {
    "execution": {
     "iopub.execute_input": "2023-03-02T02:11:10.501100Z",
     "iopub.status.busy": "2023-03-02T02:11:10.499836Z",
     "iopub.status.idle": "2023-03-02T02:11:10.509977Z",
     "shell.execute_reply": "2023-03-02T02:11:10.508853Z"
    },
    "papermill": {
     "duration": 0.033471,
     "end_time": "2023-03-02T02:11:10.512491",
     "exception": false,
     "start_time": "2023-03-02T02:11:10.479020",
     "status": "completed"
    },
    "tags": []
   },
   "outputs": [],
   "source": [
    "scaled_X = scaler.fit_transform(X)"
   ]
  },
  {
   "cell_type": "code",
   "execution_count": 41,
   "id": "4cee5f48",
   "metadata": {
    "execution": {
     "iopub.execute_input": "2023-03-02T02:11:10.553929Z",
     "iopub.status.busy": "2023-03-02T02:11:10.552593Z",
     "iopub.status.idle": "2023-03-02T02:11:10.577832Z",
     "shell.execute_reply": "2023-03-02T02:11:10.576541Z"
    },
    "papermill": {
     "duration": 0.048281,
     "end_time": "2023-03-02T02:11:10.580207",
     "exception": false,
     "start_time": "2023-03-02T02:11:10.531926",
     "status": "completed"
    },
    "tags": []
   },
   "outputs": [
    {
     "data": {
      "text/plain": [
       "SVC(C=1.1, degree=1, random_state=101, tol=1)"
      ]
     },
     "execution_count": 41,
     "metadata": {},
     "output_type": "execute_result"
    }
   ],
   "source": [
    "svc.fit(scaled_X, y)"
   ]
  },
  {
   "cell_type": "markdown",
   "id": "49ae6b82",
   "metadata": {
    "papermill": {
     "duration": 0.019322,
     "end_time": "2023-03-02T02:11:10.619735",
     "exception": false,
     "start_time": "2023-03-02T02:11:10.600413",
     "status": "completed"
    },
    "tags": []
   },
   "source": [
    "# Test set"
   ]
  },
  {
   "cell_type": "code",
   "execution_count": 42,
   "id": "11f7b0fc",
   "metadata": {
    "execution": {
     "iopub.execute_input": "2023-03-02T02:11:10.660867Z",
     "iopub.status.busy": "2023-03-02T02:11:10.659827Z",
     "iopub.status.idle": "2023-03-02T02:11:10.679307Z",
     "shell.execute_reply": "2023-03-02T02:11:10.678136Z"
    },
    "papermill": {
     "duration": 0.043208,
     "end_time": "2023-03-02T02:11:10.682262",
     "exception": false,
     "start_time": "2023-03-02T02:11:10.639054",
     "status": "completed"
    },
    "tags": []
   },
   "outputs": [],
   "source": [
    "test_full = pd.read_csv('/kaggle/input/titanic/test.csv', index_col='PassengerId')"
   ]
  },
  {
   "cell_type": "code",
   "execution_count": 43,
   "id": "0b2f4787",
   "metadata": {
    "execution": {
     "iopub.execute_input": "2023-03-02T02:11:10.723629Z",
     "iopub.status.busy": "2023-03-02T02:11:10.723194Z",
     "iopub.status.idle": "2023-03-02T02:11:10.730620Z",
     "shell.execute_reply": "2023-03-02T02:11:10.729337Z"
    },
    "papermill": {
     "duration": 0.031157,
     "end_time": "2023-03-02T02:11:10.733215",
     "exception": false,
     "start_time": "2023-03-02T02:11:10.702058",
     "status": "completed"
    },
    "tags": []
   },
   "outputs": [],
   "source": [
    "test_full = test_full.drop(['Name', 'Ticket', 'Cabin'], axis=1)"
   ]
  },
  {
   "cell_type": "markdown",
   "id": "d914cd60",
   "metadata": {
    "papermill": {
     "duration": 0.019178,
     "end_time": "2023-03-02T02:11:10.771893",
     "exception": false,
     "start_time": "2023-03-02T02:11:10.752715",
     "status": "completed"
    },
    "tags": []
   },
   "source": [
    "#### Check for missing data (follow same methodology as for training data)"
   ]
  },
  {
   "cell_type": "code",
   "execution_count": 44,
   "id": "cb3994fb",
   "metadata": {
    "execution": {
     "iopub.execute_input": "2023-03-02T02:11:10.813210Z",
     "iopub.status.busy": "2023-03-02T02:11:10.812524Z",
     "iopub.status.idle": "2023-03-02T02:11:10.821775Z",
     "shell.execute_reply": "2023-03-02T02:11:10.820732Z"
    },
    "papermill": {
     "duration": 0.032606,
     "end_time": "2023-03-02T02:11:10.824083",
     "exception": false,
     "start_time": "2023-03-02T02:11:10.791477",
     "status": "completed"
    },
    "tags": []
   },
   "outputs": [
    {
     "data": {
      "text/plain": [
       "Pclass       0\n",
       "Sex          0\n",
       "Age         86\n",
       "SibSp        0\n",
       "Parch        0\n",
       "Fare         1\n",
       "Embarked     0\n",
       "dtype: int64"
      ]
     },
     "execution_count": 44,
     "metadata": {},
     "output_type": "execute_result"
    }
   ],
   "source": [
    "test_full.isnull().sum()"
   ]
  },
  {
   "cell_type": "code",
   "execution_count": 45,
   "id": "0a27c481",
   "metadata": {
    "execution": {
     "iopub.execute_input": "2023-03-02T02:11:10.865334Z",
     "iopub.status.busy": "2023-03-02T02:11:10.864651Z",
     "iopub.status.idle": "2023-03-02T02:11:10.870810Z",
     "shell.execute_reply": "2023-03-02T02:11:10.869974Z"
    },
    "papermill": {
     "duration": 0.029589,
     "end_time": "2023-03-02T02:11:10.873136",
     "exception": false,
     "start_time": "2023-03-02T02:11:10.843547",
     "status": "completed"
    },
    "tags": []
   },
   "outputs": [],
   "source": [
    "# Fill in the NaN values with the average age obtained from the training data\n",
    "test_full['Age'] = test_full['Age'].fillna(np.floor(df['Age'].mean()))"
   ]
  },
  {
   "cell_type": "code",
   "execution_count": 46,
   "id": "8b3f2cf6",
   "metadata": {
    "execution": {
     "iopub.execute_input": "2023-03-02T02:11:10.914810Z",
     "iopub.status.busy": "2023-03-02T02:11:10.914373Z",
     "iopub.status.idle": "2023-03-02T02:11:10.925116Z",
     "shell.execute_reply": "2023-03-02T02:11:10.923833Z"
    },
    "papermill": {
     "duration": 0.035066,
     "end_time": "2023-03-02T02:11:10.927832",
     "exception": false,
     "start_time": "2023-03-02T02:11:10.892766",
     "status": "completed"
    },
    "tags": []
   },
   "outputs": [
    {
     "data": {
      "text/plain": [
       "Pclass      0\n",
       "Sex         0\n",
       "Age         0\n",
       "SibSp       0\n",
       "Parch       0\n",
       "Fare        1\n",
       "Embarked    0\n",
       "dtype: int64"
      ]
     },
     "execution_count": 46,
     "metadata": {},
     "output_type": "execute_result"
    }
   ],
   "source": [
    "# Check remaining NaN values\n",
    "test_full.isnull().sum()"
   ]
  },
  {
   "cell_type": "code",
   "execution_count": 47,
   "id": "45f6cbe8",
   "metadata": {
    "execution": {
     "iopub.execute_input": "2023-03-02T02:11:10.971467Z",
     "iopub.status.busy": "2023-03-02T02:11:10.970979Z",
     "iopub.status.idle": "2023-03-02T02:11:10.987205Z",
     "shell.execute_reply": "2023-03-02T02:11:10.986092Z"
    },
    "papermill": {
     "duration": 0.040695,
     "end_time": "2023-03-02T02:11:10.989551",
     "exception": false,
     "start_time": "2023-03-02T02:11:10.948856",
     "status": "completed"
    },
    "tags": []
   },
   "outputs": [
    {
     "data": {
      "text/html": [
       "<div>\n",
       "<style scoped>\n",
       "    .dataframe tbody tr th:only-of-type {\n",
       "        vertical-align: middle;\n",
       "    }\n",
       "\n",
       "    .dataframe tbody tr th {\n",
       "        vertical-align: top;\n",
       "    }\n",
       "\n",
       "    .dataframe thead th {\n",
       "        text-align: right;\n",
       "    }\n",
       "</style>\n",
       "<table border=\"1\" class=\"dataframe\">\n",
       "  <thead>\n",
       "    <tr style=\"text-align: right;\">\n",
       "      <th></th>\n",
       "      <th>Pclass</th>\n",
       "      <th>Sex</th>\n",
       "      <th>Age</th>\n",
       "      <th>SibSp</th>\n",
       "      <th>Parch</th>\n",
       "      <th>Fare</th>\n",
       "      <th>Embarked</th>\n",
       "    </tr>\n",
       "    <tr>\n",
       "      <th>PassengerId</th>\n",
       "      <th></th>\n",
       "      <th></th>\n",
       "      <th></th>\n",
       "      <th></th>\n",
       "      <th></th>\n",
       "      <th></th>\n",
       "      <th></th>\n",
       "    </tr>\n",
       "  </thead>\n",
       "  <tbody>\n",
       "    <tr>\n",
       "      <th>1044</th>\n",
       "      <td>3</td>\n",
       "      <td>male</td>\n",
       "      <td>60.5</td>\n",
       "      <td>0</td>\n",
       "      <td>0</td>\n",
       "      <td>NaN</td>\n",
       "      <td>S</td>\n",
       "    </tr>\n",
       "  </tbody>\n",
       "</table>\n",
       "</div>"
      ],
      "text/plain": [
       "             Pclass   Sex   Age  SibSp  Parch  Fare Embarked\n",
       "PassengerId                                                 \n",
       "1044              3  male  60.5      0      0   NaN        S"
      ]
     },
     "execution_count": 47,
     "metadata": {},
     "output_type": "execute_result"
    }
   ],
   "source": [
    "test_full[test_full['Fare'].isnull()]"
   ]
  },
  {
   "cell_type": "markdown",
   "id": "4209a2d3",
   "metadata": {
    "papermill": {
     "duration": 0.020059,
     "end_time": "2023-03-02T02:11:11.029999",
     "exception": false,
     "start_time": "2023-03-02T02:11:11.009940",
     "status": "completed"
    },
    "tags": []
   },
   "source": [
    "#### Check the Fare median values of individuals of the same Pclass and Embarked location of 'S' from the training data"
   ]
  },
  {
   "cell_type": "code",
   "execution_count": 48,
   "id": "28c7aa5c",
   "metadata": {
    "execution": {
     "iopub.execute_input": "2023-03-02T02:11:11.073057Z",
     "iopub.status.busy": "2023-03-02T02:11:11.072399Z",
     "iopub.status.idle": "2023-03-02T02:11:11.091865Z",
     "shell.execute_reply": "2023-03-02T02:11:11.090807Z"
    },
    "papermill": {
     "duration": 0.044572,
     "end_time": "2023-03-02T02:11:11.094559",
     "exception": false,
     "start_time": "2023-03-02T02:11:11.049987",
     "status": "completed"
    },
    "tags": []
   },
   "outputs": [
    {
     "data": {
      "text/html": [
       "<div>\n",
       "<style scoped>\n",
       "    .dataframe tbody tr th:only-of-type {\n",
       "        vertical-align: middle;\n",
       "    }\n",
       "\n",
       "    .dataframe tbody tr th {\n",
       "        vertical-align: top;\n",
       "    }\n",
       "\n",
       "    .dataframe thead th {\n",
       "        text-align: right;\n",
       "    }\n",
       "</style>\n",
       "<table border=\"1\" class=\"dataframe\">\n",
       "  <thead>\n",
       "    <tr style=\"text-align: right;\">\n",
       "      <th></th>\n",
       "      <th></th>\n",
       "      <th>Survived</th>\n",
       "      <th>Age</th>\n",
       "      <th>SibSp</th>\n",
       "      <th>Parch</th>\n",
       "      <th>Fare</th>\n",
       "    </tr>\n",
       "    <tr>\n",
       "      <th>Pclass</th>\n",
       "      <th>Embarked</th>\n",
       "      <th></th>\n",
       "      <th></th>\n",
       "      <th></th>\n",
       "      <th></th>\n",
       "      <th></th>\n",
       "    </tr>\n",
       "  </thead>\n",
       "  <tbody>\n",
       "    <tr>\n",
       "      <th rowspan=\"3\" valign=\"top\">lower</th>\n",
       "      <th>C</th>\n",
       "      <td>0.0</td>\n",
       "      <td>29.0</td>\n",
       "      <td>0.0</td>\n",
       "      <td>0.0</td>\n",
       "      <td>7.8958</td>\n",
       "    </tr>\n",
       "    <tr>\n",
       "      <th>Q</th>\n",
       "      <td>0.0</td>\n",
       "      <td>29.0</td>\n",
       "      <td>0.0</td>\n",
       "      <td>0.0</td>\n",
       "      <td>7.7500</td>\n",
       "    </tr>\n",
       "    <tr>\n",
       "      <th>S</th>\n",
       "      <td>0.0</td>\n",
       "      <td>28.0</td>\n",
       "      <td>0.0</td>\n",
       "      <td>0.0</td>\n",
       "      <td>8.0500</td>\n",
       "    </tr>\n",
       "    <tr>\n",
       "      <th rowspan=\"3\" valign=\"top\">middle</th>\n",
       "      <th>C</th>\n",
       "      <td>1.0</td>\n",
       "      <td>27.0</td>\n",
       "      <td>1.0</td>\n",
       "      <td>0.0</td>\n",
       "      <td>24.0000</td>\n",
       "    </tr>\n",
       "    <tr>\n",
       "      <th>Q</th>\n",
       "      <td>1.0</td>\n",
       "      <td>30.0</td>\n",
       "      <td>0.0</td>\n",
       "      <td>0.0</td>\n",
       "      <td>12.3500</td>\n",
       "    </tr>\n",
       "    <tr>\n",
       "      <th>S</th>\n",
       "      <td>0.0</td>\n",
       "      <td>29.0</td>\n",
       "      <td>0.0</td>\n",
       "      <td>0.0</td>\n",
       "      <td>13.5000</td>\n",
       "    </tr>\n",
       "    <tr>\n",
       "      <th rowspan=\"3\" valign=\"top\">upper</th>\n",
       "      <th>C</th>\n",
       "      <td>1.0</td>\n",
       "      <td>36.0</td>\n",
       "      <td>0.0</td>\n",
       "      <td>0.0</td>\n",
       "      <td>76.2917</td>\n",
       "    </tr>\n",
       "    <tr>\n",
       "      <th>Q</th>\n",
       "      <td>0.5</td>\n",
       "      <td>38.5</td>\n",
       "      <td>1.5</td>\n",
       "      <td>0.0</td>\n",
       "      <td>90.0000</td>\n",
       "    </tr>\n",
       "    <tr>\n",
       "      <th>S</th>\n",
       "      <td>1.0</td>\n",
       "      <td>35.0</td>\n",
       "      <td>0.0</td>\n",
       "      <td>0.0</td>\n",
       "      <td>52.0000</td>\n",
       "    </tr>\n",
       "  </tbody>\n",
       "</table>\n",
       "</div>"
      ],
      "text/plain": [
       "                 Survived   Age  SibSp  Parch     Fare\n",
       "Pclass Embarked                                       \n",
       "lower  C              0.0  29.0    0.0    0.0   7.8958\n",
       "       Q              0.0  29.0    0.0    0.0   7.7500\n",
       "       S              0.0  28.0    0.0    0.0   8.0500\n",
       "middle C              1.0  27.0    1.0    0.0  24.0000\n",
       "       Q              1.0  30.0    0.0    0.0  12.3500\n",
       "       S              0.0  29.0    0.0    0.0  13.5000\n",
       "upper  C              1.0  36.0    0.0    0.0  76.2917\n",
       "       Q              0.5  38.5    1.5    0.0  90.0000\n",
       "       S              1.0  35.0    0.0    0.0  52.0000"
      ]
     },
     "execution_count": 48,
     "metadata": {},
     "output_type": "execute_result"
    }
   ],
   "source": [
    "df.groupby(['Pclass', 'Embarked']).median()"
   ]
  },
  {
   "cell_type": "code",
   "execution_count": 49,
   "id": "13de8812",
   "metadata": {
    "execution": {
     "iopub.execute_input": "2023-03-02T02:11:11.138640Z",
     "iopub.status.busy": "2023-03-02T02:11:11.137743Z",
     "iopub.status.idle": "2023-03-02T02:11:11.144629Z",
     "shell.execute_reply": "2023-03-02T02:11:11.143162Z"
    },
    "papermill": {
     "duration": 0.031431,
     "end_time": "2023-03-02T02:11:11.147423",
     "exception": false,
     "start_time": "2023-03-02T02:11:11.115992",
     "status": "completed"
    },
    "tags": []
   },
   "outputs": [],
   "source": [
    "# Fill in the median fare (Pclass of 3 (lower), Embarked of S = median fare of 8.05)\n",
    "test_full['Fare'] = test_full['Fare'].fillna(8.05)"
   ]
  },
  {
   "cell_type": "code",
   "execution_count": 50,
   "id": "76689782",
   "metadata": {
    "execution": {
     "iopub.execute_input": "2023-03-02T02:11:11.191901Z",
     "iopub.status.busy": "2023-03-02T02:11:11.191123Z",
     "iopub.status.idle": "2023-03-02T02:11:11.200454Z",
     "shell.execute_reply": "2023-03-02T02:11:11.199186Z"
    },
    "papermill": {
     "duration": 0.03437,
     "end_time": "2023-03-02T02:11:11.203165",
     "exception": false,
     "start_time": "2023-03-02T02:11:11.168795",
     "status": "completed"
    },
    "tags": []
   },
   "outputs": [
    {
     "data": {
      "text/plain": [
       "Pclass      0\n",
       "Sex         0\n",
       "Age         0\n",
       "SibSp       0\n",
       "Parch       0\n",
       "Fare        0\n",
       "Embarked    0\n",
       "dtype: int64"
      ]
     },
     "execution_count": 50,
     "metadata": {},
     "output_type": "execute_result"
    }
   ],
   "source": [
    "test_full.isnull().sum()"
   ]
  },
  {
   "cell_type": "code",
   "execution_count": 51,
   "id": "171bc0a3",
   "metadata": {
    "execution": {
     "iopub.execute_input": "2023-03-02T02:11:11.246566Z",
     "iopub.status.busy": "2023-03-02T02:11:11.246146Z",
     "iopub.status.idle": "2023-03-02T02:11:11.254201Z",
     "shell.execute_reply": "2023-03-02T02:11:11.252577Z"
    },
    "papermill": {
     "duration": 0.033059,
     "end_time": "2023-03-02T02:11:11.257046",
     "exception": false,
     "start_time": "2023-03-02T02:11:11.223987",
     "status": "completed"
    },
    "tags": []
   },
   "outputs": [],
   "source": [
    "# Convert Pclass as was done in the training set \n",
    "test_full['Pclass'] = test_full['Pclass'].map({1: 'upper', 2: 'middle', 3: 'lower'})"
   ]
  },
  {
   "cell_type": "code",
   "execution_count": 52,
   "id": "64c2a509",
   "metadata": {
    "execution": {
     "iopub.execute_input": "2023-03-02T02:11:11.299983Z",
     "iopub.status.busy": "2023-03-02T02:11:11.299558Z",
     "iopub.status.idle": "2023-03-02T02:11:11.313087Z",
     "shell.execute_reply": "2023-03-02T02:11:11.312081Z"
    },
    "papermill": {
     "duration": 0.037902,
     "end_time": "2023-03-02T02:11:11.315585",
     "exception": false,
     "start_time": "2023-03-02T02:11:11.277683",
     "status": "completed"
    },
    "tags": []
   },
   "outputs": [],
   "source": [
    "# Convert to dummy variables\n",
    "test_full = pd.get_dummies(test_full, drop_first=True)"
   ]
  },
  {
   "cell_type": "code",
   "execution_count": 53,
   "id": "80df2934",
   "metadata": {
    "execution": {
     "iopub.execute_input": "2023-03-02T02:11:11.360302Z",
     "iopub.status.busy": "2023-03-02T02:11:11.358891Z",
     "iopub.status.idle": "2023-03-02T02:11:11.368657Z",
     "shell.execute_reply": "2023-03-02T02:11:11.367577Z"
    },
    "papermill": {
     "duration": 0.035347,
     "end_time": "2023-03-02T02:11:11.371284",
     "exception": false,
     "start_time": "2023-03-02T02:11:11.335937",
     "status": "completed"
    },
    "tags": []
   },
   "outputs": [],
   "source": [
    "# Scale data\n",
    "scaled_test_full = scaler.fit_transform(test_full)"
   ]
  },
  {
   "cell_type": "code",
   "execution_count": 54,
   "id": "532671dc",
   "metadata": {
    "execution": {
     "iopub.execute_input": "2023-03-02T02:11:11.416865Z",
     "iopub.status.busy": "2023-03-02T02:11:11.415723Z",
     "iopub.status.idle": "2023-03-02T02:11:11.431210Z",
     "shell.execute_reply": "2023-03-02T02:11:11.429164Z"
    },
    "papermill": {
     "duration": 0.041779,
     "end_time": "2023-03-02T02:11:11.434321",
     "exception": false,
     "start_time": "2023-03-02T02:11:11.392542",
     "status": "completed"
    },
    "tags": []
   },
   "outputs": [],
   "source": [
    "# Get test predictions\n",
    "preds_test = svc.predict(scaled_test_full)"
   ]
  },
  {
   "cell_type": "code",
   "execution_count": 55,
   "id": "9ee67988",
   "metadata": {
    "execution": {
     "iopub.execute_input": "2023-03-02T02:11:11.478029Z",
     "iopub.status.busy": "2023-03-02T02:11:11.477562Z",
     "iopub.status.idle": "2023-03-02T02:11:11.489348Z",
     "shell.execute_reply": "2023-03-02T02:11:11.488076Z"
    },
    "papermill": {
     "duration": 0.036777,
     "end_time": "2023-03-02T02:11:11.492310",
     "exception": false,
     "start_time": "2023-03-02T02:11:11.455533",
     "status": "completed"
    },
    "tags": []
   },
   "outputs": [],
   "source": [
    "# Save test predictions to file\n",
    "output = pd.DataFrame({'PassengerId': test_full.index,\n",
    "                       'Survived': preds_test})\n",
    "output.to_csv('submission.csv', index=False)"
   ]
  },
  {
   "cell_type": "markdown",
   "id": "d05e460c",
   "metadata": {
    "papermill": {
     "duration": 0.020333,
     "end_time": "2023-03-02T02:11:11.533724",
     "exception": false,
     "start_time": "2023-03-02T02:11:11.513391",
     "status": "completed"
    },
    "tags": []
   },
   "source": [
    "#### Submitted with an overall accuracy of 78.229%\n",
    "\n",
    "#### Some suggestions for improvement:\n",
    "#### 1. As mentioned above, a larger parameter grid or using a randomized search\n",
    "#### 2. Test out various algorithms (random forest, adaboost, gradientboost, etc.)\n",
    "#### 3. Feature engineering: Could try extracting meaningful information from the Name or Cabin columns. Could group the age column into buckets (child, adult, senior). Could also combine the siblings and parents columns into one and see if that makes a difference."
   ]
  }
 ],
 "metadata": {
  "kernelspec": {
   "display_name": "Python 3",
   "language": "python",
   "name": "python3"
  },
  "language_info": {
   "codemirror_mode": {
    "name": "ipython",
    "version": 3
   },
   "file_extension": ".py",
   "mimetype": "text/x-python",
   "name": "python",
   "nbconvert_exporter": "python",
   "pygments_lexer": "ipython3",
   "version": "3.7.12"
  },
  "papermill": {
   "default_parameters": {},
   "duration": 205.071315,
   "end_time": "2023-03-02T02:11:12.379185",
   "environment_variables": {},
   "exception": null,
   "input_path": "__notebook__.ipynb",
   "output_path": "__notebook__.ipynb",
   "parameters": {},
   "start_time": "2023-03-02T02:07:47.307870",
   "version": "2.3.4"
  }
 },
 "nbformat": 4,
 "nbformat_minor": 5
}
